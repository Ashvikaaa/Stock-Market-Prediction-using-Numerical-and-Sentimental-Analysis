{
 "cells": [
  {
   "cell_type": "markdown",
   "metadata": {},
   "source": [
    "# Ashvika Venkatesan\n",
    "\n",
    "\n",
    "### <font color=red> *Stock Market Prediction using Numerical Analysis* </font>\n",
    "### <font color=red> *& Sentimental Analysis of Text* </font>"
   ]
  },
  {
   "cell_type": "code",
   "execution_count": 1,
   "metadata": {},
   "outputs": [],
   "source": [
    "import pandas as pd\n",
    "import numpy as np\n",
    "import re,nltk\n",
    "from textblob import TextBlob\n",
    "from vaderSentiment.vaderSentiment import SentimentIntensityAnalyzer"
   ]
  },
  {
   "cell_type": "code",
   "execution_count": 2,
   "metadata": {},
   "outputs": [],
   "source": [
    "news_headlines=pd.read_csv(\"india-news-headlines.csv\")"
   ]
  },
  {
   "cell_type": "code",
   "execution_count": 3,
   "metadata": {},
   "outputs": [
    {
     "data": {
      "text/html": [
       "<div>\n",
       "<style scoped>\n",
       "    .dataframe tbody tr th:only-of-type {\n",
       "        vertical-align: middle;\n",
       "    }\n",
       "\n",
       "    .dataframe tbody tr th {\n",
       "        vertical-align: top;\n",
       "    }\n",
       "\n",
       "    .dataframe thead th {\n",
       "        text-align: right;\n",
       "    }\n",
       "</style>\n",
       "<table border=\"1\" class=\"dataframe\">\n",
       "  <thead>\n",
       "    <tr style=\"text-align: right;\">\n",
       "      <th></th>\n",
       "      <th>publish_date</th>\n",
       "      <th>headline_category</th>\n",
       "      <th>headline_text</th>\n",
       "    </tr>\n",
       "  </thead>\n",
       "  <tbody>\n",
       "    <tr>\n",
       "      <th>0</th>\n",
       "      <td>20010101</td>\n",
       "      <td>sports.wwe</td>\n",
       "      <td>win over cena satisfying but defeating underta...</td>\n",
       "    </tr>\n",
       "    <tr>\n",
       "      <th>1</th>\n",
       "      <td>20010102</td>\n",
       "      <td>unknown</td>\n",
       "      <td>Status quo will not be disturbed at Ayodhya; s...</td>\n",
       "    </tr>\n",
       "    <tr>\n",
       "      <th>2</th>\n",
       "      <td>20010102</td>\n",
       "      <td>unknown</td>\n",
       "      <td>Fissures in Hurriyat over Pak visit</td>\n",
       "    </tr>\n",
       "    <tr>\n",
       "      <th>3</th>\n",
       "      <td>20010102</td>\n",
       "      <td>unknown</td>\n",
       "      <td>America's unwanted heading for India?</td>\n",
       "    </tr>\n",
       "    <tr>\n",
       "      <th>4</th>\n",
       "      <td>20010102</td>\n",
       "      <td>unknown</td>\n",
       "      <td>For bigwigs; it is destination Goa</td>\n",
       "    </tr>\n",
       "  </tbody>\n",
       "</table>\n",
       "</div>"
      ],
      "text/plain": [
       "   publish_date headline_category  \\\n",
       "0      20010101        sports.wwe   \n",
       "1      20010102           unknown   \n",
       "2      20010102           unknown   \n",
       "3      20010102           unknown   \n",
       "4      20010102           unknown   \n",
       "\n",
       "                                       headline_text  \n",
       "0  win over cena satisfying but defeating underta...  \n",
       "1  Status quo will not be disturbed at Ayodhya; s...  \n",
       "2                Fissures in Hurriyat over Pak visit  \n",
       "3              America's unwanted heading for India?  \n",
       "4                 For bigwigs; it is destination Goa  "
      ]
     },
     "execution_count": 3,
     "metadata": {},
     "output_type": "execute_result"
    }
   ],
   "source": [
    "news_headlines.head()"
   ]
  },
  {
   "cell_type": "code",
   "execution_count": 4,
   "metadata": {},
   "outputs": [],
   "source": [
    "news_headlines.rename(columns={\"publish_date\":\"Date\"}, inplace=True)"
   ]
  },
  {
   "cell_type": "code",
   "execution_count": 5,
   "metadata": {},
   "outputs": [
    {
     "data": {
      "text/plain": [
       "Date                  int64\n",
       "headline_category    object\n",
       "headline_text        object\n",
       "dtype: object"
      ]
     },
     "execution_count": 5,
     "metadata": {},
     "output_type": "execute_result"
    }
   ],
   "source": [
    "news_headlines.dtypes"
   ]
  },
  {
   "cell_type": "code",
   "execution_count": 6,
   "metadata": {},
   "outputs": [
    {
     "data": {
      "text/plain": [
       "Date                 datetime64[ns]\n",
       "headline_category            object\n",
       "headline_text                object\n",
       "dtype: object"
      ]
     },
     "execution_count": 6,
     "metadata": {},
     "output_type": "execute_result"
    }
   ],
   "source": [
    "news_headlines[\"Date\"]=pd.to_datetime(news_headlines[\"Date\"], format=\"%Y%m%d\")\n",
    "news_headlines.dtypes"
   ]
  },
  {
   "cell_type": "code",
   "execution_count": 7,
   "metadata": {},
   "outputs": [
    {
     "data": {
      "text/html": [
       "<div>\n",
       "<style scoped>\n",
       "    .dataframe tbody tr th:only-of-type {\n",
       "        vertical-align: middle;\n",
       "    }\n",
       "\n",
       "    .dataframe tbody tr th {\n",
       "        vertical-align: top;\n",
       "    }\n",
       "\n",
       "    .dataframe thead th {\n",
       "        text-align: right;\n",
       "    }\n",
       "</style>\n",
       "<table border=\"1\" class=\"dataframe\">\n",
       "  <thead>\n",
       "    <tr style=\"text-align: right;\">\n",
       "      <th></th>\n",
       "      <th>Date</th>\n",
       "      <th>Open</th>\n",
       "      <th>High</th>\n",
       "      <th>Low</th>\n",
       "      <th>Close</th>\n",
       "      <th>Adj Close</th>\n",
       "      <th>Volume</th>\n",
       "    </tr>\n",
       "  </thead>\n",
       "  <tbody>\n",
       "    <tr>\n",
       "      <th>0</th>\n",
       "      <td>2015-11-16</td>\n",
       "      <td>25580.150391</td>\n",
       "      <td>25866.419922</td>\n",
       "      <td>25451.419922</td>\n",
       "      <td>25760.099609</td>\n",
       "      <td>25760.099609</td>\n",
       "      <td>11300.0</td>\n",
       "    </tr>\n",
       "    <tr>\n",
       "      <th>1</th>\n",
       "      <td>2015-11-17</td>\n",
       "      <td>25897.880859</td>\n",
       "      <td>25948.199219</td>\n",
       "      <td>25732.789063</td>\n",
       "      <td>25864.470703</td>\n",
       "      <td>25864.470703</td>\n",
       "      <td>10700.0</td>\n",
       "    </tr>\n",
       "    <tr>\n",
       "      <th>2</th>\n",
       "      <td>2015-11-18</td>\n",
       "      <td>25837.710938</td>\n",
       "      <td>25890.359375</td>\n",
       "      <td>25453.320313</td>\n",
       "      <td>25482.519531</td>\n",
       "      <td>25482.519531</td>\n",
       "      <td>16100.0</td>\n",
       "    </tr>\n",
       "    <tr>\n",
       "      <th>3</th>\n",
       "      <td>2015-11-19</td>\n",
       "      <td>25640.339844</td>\n",
       "      <td>25884.519531</td>\n",
       "      <td>25603.099609</td>\n",
       "      <td>25841.919922</td>\n",
       "      <td>25841.919922</td>\n",
       "      <td>9900.0</td>\n",
       "    </tr>\n",
       "    <tr>\n",
       "      <th>4</th>\n",
       "      <td>2015-11-20</td>\n",
       "      <td>25856.130859</td>\n",
       "      <td>26058.759766</td>\n",
       "      <td>25769.810547</td>\n",
       "      <td>25868.490234</td>\n",
       "      <td>25868.490234</td>\n",
       "      <td>10000.0</td>\n",
       "    </tr>\n",
       "  </tbody>\n",
       "</table>\n",
       "</div>"
      ],
      "text/plain": [
       "         Date          Open          High           Low         Close  \\\n",
       "0  2015-11-16  25580.150391  25866.419922  25451.419922  25760.099609   \n",
       "1  2015-11-17  25897.880859  25948.199219  25732.789063  25864.470703   \n",
       "2  2015-11-18  25837.710938  25890.359375  25453.320313  25482.519531   \n",
       "3  2015-11-19  25640.339844  25884.519531  25603.099609  25841.919922   \n",
       "4  2015-11-20  25856.130859  26058.759766  25769.810547  25868.490234   \n",
       "\n",
       "      Adj Close   Volume  \n",
       "0  25760.099609  11300.0  \n",
       "1  25864.470703  10700.0  \n",
       "2  25482.519531  16100.0  \n",
       "3  25841.919922   9900.0  \n",
       "4  25868.490234  10000.0  "
      ]
     },
     "execution_count": 7,
     "metadata": {},
     "output_type": "execute_result"
    }
   ],
   "source": [
    "hist_stock=pd.read_csv(\"^BSESN.csv\")\n",
    "hist_stock.head()"
   ]
  },
  {
   "cell_type": "code",
   "execution_count": 8,
   "metadata": {},
   "outputs": [
    {
     "data": {
      "text/plain": [
       "Date          object\n",
       "Open         float64\n",
       "High         float64\n",
       "Low          float64\n",
       "Close        float64\n",
       "Adj Close    float64\n",
       "Volume       float64\n",
       "dtype: object"
      ]
     },
     "execution_count": 8,
     "metadata": {},
     "output_type": "execute_result"
    }
   ],
   "source": [
    "hist_stock.dtypes"
   ]
  },
  {
   "cell_type": "code",
   "execution_count": 9,
   "metadata": {},
   "outputs": [
    {
     "data": {
      "text/plain": [
       "Date         datetime64[ns]\n",
       "Open                float64\n",
       "High                float64\n",
       "Low                 float64\n",
       "Close               float64\n",
       "Adj Close           float64\n",
       "Volume              float64\n",
       "dtype: object"
      ]
     },
     "execution_count": 9,
     "metadata": {},
     "output_type": "execute_result"
    }
   ],
   "source": [
    "hist_stock[\"Date\"]=pd.to_datetime(hist_stock[\"Date\"], format=\"%Y-%m-%d\")\n",
    "hist_stock.dtypes"
   ]
  },
  {
   "cell_type": "code",
   "execution_count": 10,
   "metadata": {},
   "outputs": [
    {
     "data": {
      "text/html": [
       "<div>\n",
       "<style scoped>\n",
       "    .dataframe tbody tr th:only-of-type {\n",
       "        vertical-align: middle;\n",
       "    }\n",
       "\n",
       "    .dataframe tbody tr th {\n",
       "        vertical-align: top;\n",
       "    }\n",
       "\n",
       "    .dataframe thead th {\n",
       "        text-align: right;\n",
       "    }\n",
       "</style>\n",
       "<table border=\"1\" class=\"dataframe\">\n",
       "  <thead>\n",
       "    <tr style=\"text-align: right;\">\n",
       "      <th></th>\n",
       "      <th>Date</th>\n",
       "      <th>Open</th>\n",
       "      <th>High</th>\n",
       "      <th>Low</th>\n",
       "      <th>Close</th>\n",
       "      <th>Adj Close</th>\n",
       "      <th>Volume</th>\n",
       "      <th>headline_category</th>\n",
       "      <th>headline_text</th>\n",
       "    </tr>\n",
       "  </thead>\n",
       "  <tbody>\n",
       "    <tr>\n",
       "      <th>2226920</th>\n",
       "      <td>2015-11-16</td>\n",
       "      <td>25580.150391</td>\n",
       "      <td>25866.419922</td>\n",
       "      <td>25451.419922</td>\n",
       "      <td>25760.099609</td>\n",
       "      <td>25760.099609</td>\n",
       "      <td>11300.0</td>\n",
       "      <td>life-style.health-fitness.diet</td>\n",
       "      <td>5 must-have nutrients for women's health</td>\n",
       "    </tr>\n",
       "    <tr>\n",
       "      <th>2226921</th>\n",
       "      <td>2015-11-16</td>\n",
       "      <td>25580.150391</td>\n",
       "      <td>25866.419922</td>\n",
       "      <td>25451.419922</td>\n",
       "      <td>25760.099609</td>\n",
       "      <td>25760.099609</td>\n",
       "      <td>11300.0</td>\n",
       "      <td>unknown</td>\n",
       "      <td>Sridevi: Rare images that should not be missed</td>\n",
       "    </tr>\n",
       "    <tr>\n",
       "      <th>2226922</th>\n",
       "      <td>2015-11-16</td>\n",
       "      <td>25580.150391</td>\n",
       "      <td>25866.419922</td>\n",
       "      <td>25451.419922</td>\n",
       "      <td>25760.099609</td>\n",
       "      <td>25760.099609</td>\n",
       "      <td>11300.0</td>\n",
       "      <td>unknown</td>\n",
       "      <td>Tennis: ATP World Tour Finals</td>\n",
       "    </tr>\n",
       "    <tr>\n",
       "      <th>2226923</th>\n",
       "      <td>2015-11-16</td>\n",
       "      <td>25580.150391</td>\n",
       "      <td>25866.419922</td>\n",
       "      <td>25451.419922</td>\n",
       "      <td>25760.099609</td>\n",
       "      <td>25760.099609</td>\n",
       "      <td>11300.0</td>\n",
       "      <td>entertainment.marathi.movies.news</td>\n",
       "      <td>Mrunmayee Deshpande turns debutant director</td>\n",
       "    </tr>\n",
       "    <tr>\n",
       "      <th>2226924</th>\n",
       "      <td>2015-11-16</td>\n",
       "      <td>25580.150391</td>\n",
       "      <td>25866.419922</td>\n",
       "      <td>25451.419922</td>\n",
       "      <td>25760.099609</td>\n",
       "      <td>25760.099609</td>\n",
       "      <td>11300.0</td>\n",
       "      <td>entertainment.marathi.movies.news</td>\n",
       "      <td>Sonali Bendre wants to make a comeback to Mara...</td>\n",
       "    </tr>\n",
       "  </tbody>\n",
       "</table>\n",
       "</div>"
      ],
      "text/plain": [
       "              Date          Open          High           Low         Close  \\\n",
       "2226920 2015-11-16  25580.150391  25866.419922  25451.419922  25760.099609   \n",
       "2226921 2015-11-16  25580.150391  25866.419922  25451.419922  25760.099609   \n",
       "2226922 2015-11-16  25580.150391  25866.419922  25451.419922  25760.099609   \n",
       "2226923 2015-11-16  25580.150391  25866.419922  25451.419922  25760.099609   \n",
       "2226924 2015-11-16  25580.150391  25866.419922  25451.419922  25760.099609   \n",
       "\n",
       "            Adj Close   Volume                  headline_category  \\\n",
       "2226920  25760.099609  11300.0     life-style.health-fitness.diet   \n",
       "2226921  25760.099609  11300.0                            unknown   \n",
       "2226922  25760.099609  11300.0                            unknown   \n",
       "2226923  25760.099609  11300.0  entertainment.marathi.movies.news   \n",
       "2226924  25760.099609  11300.0  entertainment.marathi.movies.news   \n",
       "\n",
       "                                             headline_text  \n",
       "2226920           5 must-have nutrients for women's health  \n",
       "2226921     Sridevi: Rare images that should not be missed  \n",
       "2226922                      Tennis: ATP World Tour Finals  \n",
       "2226923        Mrunmayee Deshpande turns debutant director  \n",
       "2226924  Sonali Bendre wants to make a comeback to Mara...  "
      ]
     },
     "execution_count": 10,
     "metadata": {},
     "output_type": "execute_result"
    }
   ],
   "source": [
    "merge=hist_stock.merge(news_headlines, how=\"inner\", on=\"Date\", left_index=True)\n",
    "merge.head()"
   ]
  },
  {
   "cell_type": "code",
   "execution_count": 11,
   "metadata": {},
   "outputs": [
    {
     "data": {
      "text/html": [
       "<div>\n",
       "<style scoped>\n",
       "    .dataframe tbody tr th:only-of-type {\n",
       "        vertical-align: middle;\n",
       "    }\n",
       "\n",
       "    .dataframe tbody tr th {\n",
       "        vertical-align: top;\n",
       "    }\n",
       "\n",
       "    .dataframe thead th {\n",
       "        text-align: right;\n",
       "    }\n",
       "</style>\n",
       "<table border=\"1\" class=\"dataframe\">\n",
       "  <thead>\n",
       "    <tr style=\"text-align: right;\">\n",
       "      <th></th>\n",
       "      <th>Date</th>\n",
       "      <th>Open</th>\n",
       "      <th>High</th>\n",
       "      <th>Low</th>\n",
       "      <th>Close</th>\n",
       "      <th>Adj Close</th>\n",
       "      <th>Volume</th>\n",
       "      <th>headline_text</th>\n",
       "    </tr>\n",
       "  </thead>\n",
       "  <tbody>\n",
       "    <tr>\n",
       "      <th>0</th>\n",
       "      <td>2015-11-16</td>\n",
       "      <td>25580.150391</td>\n",
       "      <td>25866.419922</td>\n",
       "      <td>25451.419922</td>\n",
       "      <td>25760.099609</td>\n",
       "      <td>25760.099609</td>\n",
       "      <td>11300.0</td>\n",
       "      <td>5 must-have nutrients for women's health</td>\n",
       "    </tr>\n",
       "    <tr>\n",
       "      <th>1</th>\n",
       "      <td>2015-11-16</td>\n",
       "      <td>25580.150391</td>\n",
       "      <td>25866.419922</td>\n",
       "      <td>25451.419922</td>\n",
       "      <td>25760.099609</td>\n",
       "      <td>25760.099609</td>\n",
       "      <td>11300.0</td>\n",
       "      <td>Sridevi: Rare images that should not be missed</td>\n",
       "    </tr>\n",
       "    <tr>\n",
       "      <th>2</th>\n",
       "      <td>2015-11-16</td>\n",
       "      <td>25580.150391</td>\n",
       "      <td>25866.419922</td>\n",
       "      <td>25451.419922</td>\n",
       "      <td>25760.099609</td>\n",
       "      <td>25760.099609</td>\n",
       "      <td>11300.0</td>\n",
       "      <td>Tennis: ATP World Tour Finals</td>\n",
       "    </tr>\n",
       "    <tr>\n",
       "      <th>3</th>\n",
       "      <td>2015-11-16</td>\n",
       "      <td>25580.150391</td>\n",
       "      <td>25866.419922</td>\n",
       "      <td>25451.419922</td>\n",
       "      <td>25760.099609</td>\n",
       "      <td>25760.099609</td>\n",
       "      <td>11300.0</td>\n",
       "      <td>Mrunmayee Deshpande turns debutant director</td>\n",
       "    </tr>\n",
       "    <tr>\n",
       "      <th>4</th>\n",
       "      <td>2015-11-16</td>\n",
       "      <td>25580.150391</td>\n",
       "      <td>25866.419922</td>\n",
       "      <td>25451.419922</td>\n",
       "      <td>25760.099609</td>\n",
       "      <td>25760.099609</td>\n",
       "      <td>11300.0</td>\n",
       "      <td>Sonali Bendre wants to make a comeback to Mara...</td>\n",
       "    </tr>\n",
       "    <tr>\n",
       "      <th>...</th>\n",
       "      <td>...</td>\n",
       "      <td>...</td>\n",
       "      <td>...</td>\n",
       "      <td>...</td>\n",
       "      <td>...</td>\n",
       "      <td>...</td>\n",
       "      <td>...</td>\n",
       "      <td>...</td>\n",
       "    </tr>\n",
       "    <tr>\n",
       "      <th>721427</th>\n",
       "      <td>2020-06-30</td>\n",
       "      <td>35168.300781</td>\n",
       "      <td>35233.910156</td>\n",
       "      <td>34812.800781</td>\n",
       "      <td>34915.800781</td>\n",
       "      <td>34915.800781</td>\n",
       "      <td>18500.0</td>\n",
       "      <td>why tiktok removed 1 65 crore videos in india</td>\n",
       "    </tr>\n",
       "    <tr>\n",
       "      <th>721428</th>\n",
       "      <td>2020-06-30</td>\n",
       "      <td>35168.300781</td>\n",
       "      <td>35233.910156</td>\n",
       "      <td>34812.800781</td>\n",
       "      <td>34915.800781</td>\n",
       "      <td>34915.800781</td>\n",
       "      <td>18500.0</td>\n",
       "      <td>apurva asrani calls alia bhatts mother soni ra...</td>\n",
       "    </tr>\n",
       "    <tr>\n",
       "      <th>721429</th>\n",
       "      <td>2020-06-30</td>\n",
       "      <td>35168.300781</td>\n",
       "      <td>35233.910156</td>\n",
       "      <td>34812.800781</td>\n",
       "      <td>34915.800781</td>\n",
       "      <td>34915.800781</td>\n",
       "      <td>18500.0</td>\n",
       "      <td>kangana ranaut gets a doll version of herself ...</td>\n",
       "    </tr>\n",
       "    <tr>\n",
       "      <th>721430</th>\n",
       "      <td>2020-06-30</td>\n",
       "      <td>35168.300781</td>\n",
       "      <td>35233.910156</td>\n",
       "      <td>34812.800781</td>\n",
       "      <td>34915.800781</td>\n",
       "      <td>34915.800781</td>\n",
       "      <td>18500.0</td>\n",
       "      <td>meezaan jaffrey reminisces his childhood days ...</td>\n",
       "    </tr>\n",
       "    <tr>\n",
       "      <th>721431</th>\n",
       "      <td>2020-06-30</td>\n",
       "      <td>35168.300781</td>\n",
       "      <td>35233.910156</td>\n",
       "      <td>34812.800781</td>\n",
       "      <td>34915.800781</td>\n",
       "      <td>34915.800781</td>\n",
       "      <td>18500.0</td>\n",
       "      <td>prabhas20 titled as radhe shyam prabhas and po...</td>\n",
       "    </tr>\n",
       "  </tbody>\n",
       "</table>\n",
       "<p>721432 rows × 8 columns</p>\n",
       "</div>"
      ],
      "text/plain": [
       "             Date          Open          High           Low         Close  \\\n",
       "0      2015-11-16  25580.150391  25866.419922  25451.419922  25760.099609   \n",
       "1      2015-11-16  25580.150391  25866.419922  25451.419922  25760.099609   \n",
       "2      2015-11-16  25580.150391  25866.419922  25451.419922  25760.099609   \n",
       "3      2015-11-16  25580.150391  25866.419922  25451.419922  25760.099609   \n",
       "4      2015-11-16  25580.150391  25866.419922  25451.419922  25760.099609   \n",
       "...           ...           ...           ...           ...           ...   \n",
       "721427 2020-06-30  35168.300781  35233.910156  34812.800781  34915.800781   \n",
       "721428 2020-06-30  35168.300781  35233.910156  34812.800781  34915.800781   \n",
       "721429 2020-06-30  35168.300781  35233.910156  34812.800781  34915.800781   \n",
       "721430 2020-06-30  35168.300781  35233.910156  34812.800781  34915.800781   \n",
       "721431 2020-06-30  35168.300781  35233.910156  34812.800781  34915.800781   \n",
       "\n",
       "           Adj Close   Volume  \\\n",
       "0       25760.099609  11300.0   \n",
       "1       25760.099609  11300.0   \n",
       "2       25760.099609  11300.0   \n",
       "3       25760.099609  11300.0   \n",
       "4       25760.099609  11300.0   \n",
       "...              ...      ...   \n",
       "721427  34915.800781  18500.0   \n",
       "721428  34915.800781  18500.0   \n",
       "721429  34915.800781  18500.0   \n",
       "721430  34915.800781  18500.0   \n",
       "721431  34915.800781  18500.0   \n",
       "\n",
       "                                            headline_text  \n",
       "0                5 must-have nutrients for women's health  \n",
       "1          Sridevi: Rare images that should not be missed  \n",
       "2                           Tennis: ATP World Tour Finals  \n",
       "3             Mrunmayee Deshpande turns debutant director  \n",
       "4       Sonali Bendre wants to make a comeback to Mara...  \n",
       "...                                                   ...  \n",
       "721427      why tiktok removed 1 65 crore videos in india  \n",
       "721428  apurva asrani calls alia bhatts mother soni ra...  \n",
       "721429  kangana ranaut gets a doll version of herself ...  \n",
       "721430  meezaan jaffrey reminisces his childhood days ...  \n",
       "721431  prabhas20 titled as radhe shyam prabhas and po...  \n",
       "\n",
       "[721432 rows x 8 columns]"
      ]
     },
     "execution_count": 11,
     "metadata": {},
     "output_type": "execute_result"
    }
   ],
   "source": [
    "merge.drop(columns={\"headline_category\"},axis=1,inplace=True)\n",
    "merge.reset_index(drop=True)"
   ]
  },
  {
   "cell_type": "code",
   "execution_count": 12,
   "metadata": {},
   "outputs": [
    {
     "data": {
      "text/html": [
       "<div>\n",
       "<style scoped>\n",
       "    .dataframe tbody tr th:only-of-type {\n",
       "        vertical-align: middle;\n",
       "    }\n",
       "\n",
       "    .dataframe tbody tr th {\n",
       "        vertical-align: top;\n",
       "    }\n",
       "\n",
       "    .dataframe thead th {\n",
       "        text-align: right;\n",
       "    }\n",
       "</style>\n",
       "<table border=\"1\" class=\"dataframe\">\n",
       "  <thead>\n",
       "    <tr style=\"text-align: right;\">\n",
       "      <th></th>\n",
       "      <th>Date</th>\n",
       "      <th>headline_text</th>\n",
       "      <th>Open</th>\n",
       "      <th>High</th>\n",
       "      <th>Low</th>\n",
       "      <th>Close</th>\n",
       "    </tr>\n",
       "  </thead>\n",
       "  <tbody>\n",
       "    <tr>\n",
       "      <th>0</th>\n",
       "      <td>2015-11-16</td>\n",
       "      <td>5 must-have nutrients for women's health Sride...</td>\n",
       "      <td>25580.150391</td>\n",
       "      <td>25866.419922</td>\n",
       "      <td>25451.419922</td>\n",
       "      <td>25760.099609</td>\n",
       "    </tr>\n",
       "    <tr>\n",
       "      <th>1</th>\n",
       "      <td>2015-11-17</td>\n",
       "      <td>How healthy is your fridge (Quiz) The curious ...</td>\n",
       "      <td>25897.880859</td>\n",
       "      <td>25948.199219</td>\n",
       "      <td>25732.789063</td>\n",
       "      <td>25864.470703</td>\n",
       "    </tr>\n",
       "    <tr>\n",
       "      <th>2</th>\n",
       "      <td>2015-11-18</td>\n",
       "      <td>Most talked about celebrity divorces ISL: Kolk...</td>\n",
       "      <td>25837.710938</td>\n",
       "      <td>25890.359375</td>\n",
       "      <td>25453.320313</td>\n",
       "      <td>25482.519531</td>\n",
       "    </tr>\n",
       "    <tr>\n",
       "      <th>3</th>\n",
       "      <td>2015-11-19</td>\n",
       "      <td>International Men's Day: 7 things men are so p...</td>\n",
       "      <td>25640.339844</td>\n",
       "      <td>25884.519531</td>\n",
       "      <td>25603.099609</td>\n",
       "      <td>25841.919922</td>\n",
       "    </tr>\n",
       "    <tr>\n",
       "      <th>4</th>\n",
       "      <td>2015-11-20</td>\n",
       "      <td>Food items to keep away from your toddler Shou...</td>\n",
       "      <td>25856.130859</td>\n",
       "      <td>26058.759766</td>\n",
       "      <td>25769.810547</td>\n",
       "      <td>25868.490234</td>\n",
       "    </tr>\n",
       "  </tbody>\n",
       "</table>\n",
       "</div>"
      ],
      "text/plain": [
       "        Date                                      headline_text          Open  \\\n",
       "0 2015-11-16  5 must-have nutrients for women's health Sride...  25580.150391   \n",
       "1 2015-11-17  How healthy is your fridge (Quiz) The curious ...  25897.880859   \n",
       "2 2015-11-18  Most talked about celebrity divorces ISL: Kolk...  25837.710938   \n",
       "3 2015-11-19  International Men's Day: 7 things men are so p...  25640.339844   \n",
       "4 2015-11-20  Food items to keep away from your toddler Shou...  25856.130859   \n",
       "\n",
       "           High           Low         Close  \n",
       "0  25866.419922  25451.419922  25760.099609  \n",
       "1  25948.199219  25732.789063  25864.470703  \n",
       "2  25890.359375  25453.320313  25482.519531  \n",
       "3  25884.519531  25603.099609  25841.919922  \n",
       "4  26058.759766  25769.810547  25868.490234  "
      ]
     },
     "execution_count": 12,
     "metadata": {},
     "output_type": "execute_result"
    }
   ],
   "source": [
    "#Combine all headlines on the same date into one.\n",
    "\n",
    "foo = lambda a: \" \".join(a) \n",
    "merge=merge.groupby(by='Date').agg({'headline_text':foo,\n",
    "                              'Open': 'mean',\n",
    "                              'High': 'mean',\n",
    "                              'Low':'mean',\n",
    "                              'Close':'mean'}).reset_index()\n",
    "merge.head()"
   ]
  },
  {
   "cell_type": "code",
   "execution_count": 13,
   "metadata": {},
   "outputs": [
    {
     "data": {
      "text/plain": [
       "1137"
      ]
     },
     "execution_count": 13,
     "metadata": {},
     "output_type": "execute_result"
    }
   ],
   "source": [
    "len(merge)"
   ]
  },
  {
   "cell_type": "code",
   "execution_count": 14,
   "metadata": {},
   "outputs": [
    {
     "data": {
      "text/plain": [
       "\"How healthy is your fridge (Quiz) The curious case of Bollywood names 9 signs that spell cancer! RAKSHA PRABHAKAR Contour your face with threads PIC: Sonam Kapoor with family DIET: Top 10 healing foods for a sore throat HEALTH: Myths about age and pregnancy Move over lumbersexual; the 'dandy wildman' is here Feeling dizzy? You may have 'cybersickness' Short film inspired by Bina Kalindi's life in KIFF Vikas Khanna's new storybook for kids Amala Paul signs a romcom I eat everything in moderation Manisha's compliment boosted the dancer in me Hindi TV shows grab international eyeballs Soul Curry: I am so glad he left me Taxi drivers to protest outside police stations today Shyam Ambardar Pushp Sobti Shri Harish Chander Dandona Shri.Bimal Kishore Jain & Smt.Jaiwanti Devi Jain SMT. SAROJ RANI WADHWA Brig SP Sengupta MRS. HARMOHINDER KAUR CHATRATH RITA MADAN SMT. JANAK KAMPANI Smt. Satyawati Uppal Stop ugly constructions around Taj Mahal; Supreme Court tells Uttar Pradesh government Proposal to charge Metro levy may raise air fares Make Kamaal Khan witness in case: Salman Doctors protest assault false charges shut pvt clinics labs It is cruel and illegal to force elephants to beg: Activists Car runs over stray puppies in Juinagar Sangli man found murdered in Panvel Locals wary of new mobile towers in city PIL against website 'glorifying' Bapu killer Biker collides with SUV in Vashi 61 LMVs seized in K'ghar for ferrying passengers Devotees gear up for Chhath Puja City coach to oversee taekwondo players' trials Congress; NCP may join hands for council elections Drop in cases of animals traumatised by Diwali crackers Lake city all set to observe Chhath Puja Corrupt officials continue in office against Maharashtra CM's wishes Doc fined for botched-up spine surgery Forest housing society members; NCP leader trade charges Lost & found; the smart way: CISF uses tech to reunite item with owner at airports 11 from city in gymnastics nationals Mumbra locals stage protest to condemn Paris attack Woman loses Rs 20K valuables to conman Saeed Jaffrey one of the best known faces of Hindi cinema in Hollywood passes away Tagged falcons return to Nagaland Naga dailies carry blank editorials after AR rap Dist invites locals to share info on Fancy Bazar fire Kejri to promote Bodo language Tea garden schools in state violating child rights: Report Scientific rearing focus at Yak Mela Shillong; Tura erupt in protests against AFSPA Anup Chetia joining talks still uncertain Tourists face nightmare after booking FDCM resort at Nagzira NU to levy exam fee per subject only Online data collection making school owners nervous Doctor told to pay 2 lakh for botched spine surgery Jumbo forced to beg in sun; mahout claims he has licence 15 free eye-test hubs for diabetics set up in city Hancock bridge to close from Wed Brandon out of ISL Need a 9-month league to live a normal life: Anelka Fight to the finish as Goa; Mumbai eye top spot Is political conspiracy behind offences against RTI activist Mukesh Sahu? Genco ignores minister's fiat on cutting demurrage charges BJP SC wing meet deferred Oberoi centre keep NU in dark on new course 2 Kolkatans join 'awards wapsi' SC can't force us to collect pollution cess: Toll operator HC upholds derecognition of Bhandara jr college NTPC Mouda plant's 500MW unit lying idle Experts highlight gaps in emission norms Tribals are still slaves Man assaulted over opening pan kiosk Firm collects 4.3cr green tax Churchgate station to soon get solar power HC judge recuses self from hearing beef ban PILs Min temp dips slightly; but gap with max stays high Rehabilitate those displaced by Metro; monorail: SP MLA Scholarship exam committee set up Dal still costly; rice prices may now go through roof A PALE ORANGE FOR THE FRUIT GROWERS OF VIDARBHA On Bal Thackeray's 3rd death anniversary; Shiv Sena plans massive show of strength Ensure Chhath Puja does not turn into a rock show; says HC City roads get red box for passenger vehicles Terrorism; the contagion which cunningly feeds on our impulses Bikram Vohra: Returning my award Body of missing guard found in agri field Special BEST buses for Chhath Puja Neerja Chowdhury: Will Mulayam and Mayawati form a mahagathbandhan in UP? Hand over Bismarque Dias case to CBI More opportunities; less delays needed for IT boost in state Gomti 'Maha aarti' with national anthem Morjim woman gets temporary possession of house Richard Verma: As Paris UNFCCC meet looms; US and India must join forces to save the planet Citizens ask all netas to join them in fight against open space policy Forum gives Carmona p'yat 10 days to revoke construction licence ICT innovations have helped in real time Act on terror: Global community must undertake united efforts to fight the menace Panel on bullfights wants stakeholders' sugggestions Govt drags it feet over nod to EDMs Mapusa municipality forms sub-committees Negligent driving case against 19-year-old at Colva Morjim woman gets temporary possession of house Liberalise H-1B: For principled and practical reasons; US should not try to keep out Indian workers German businesses are thriving in India Iffi delegate registration nears 7;000 mark Cops; GSPCB to monitor pollution at EDM festival Milton Marques is Verla Canca sarpanch Several hurt in bus accident The Clan to bring down curtains on Iffi '15 Delhi Police special cell ACP found dead at home Vasudev Dhuri is new dy sarpanch of Chorao Luxury liner arrives at Mormugao Bumpy stretch; fast bikes claim 3 lives High rate of suicides haunts LGBT youths Stop overworking Hospicio doctors: Benaulim forum Egypt's loss not Goa's gain English Tapobhoomi calendar launched in British parliament Start-ups among top recruiters at IIM-L Mapusa Urban bank to sell assets to raise 20 crore Collem police arrest two for stealing car Investment board in dire need of satellite consultant Work tender for new Zuari bridge only after Dec 19 Goan startup set to take DCCPER plunge Ven Agnelo's anniv mass on Nov 20 Mayem farmers demands compensation from mining company 'Not perturbed by FTII students' protest threats' Chief secy nod to transfer of PGI trauma centre No-trust move against Poriem sarpanch First metro train to arrive in Sept 2016 223 students miss exam due to MKCL blunder Gun shot: No action against RTO official Many scenes of Saeed Jaffrey's life were played in city KP to house Metro Rail info centre Angavastra; pagdi for Kalam varsity graduates 'BSP-SP alliance won't happen' After a couple of weeks on high; mercury heads down BSP rules out any alliance in 2017 UP assembly polls NMC spent more than its income in 2014-15 A land of many possibilities Nagpur witnesses 16.5% rise in traffic violations Alliance only for Cong to survive Goons hired by woman to beat up son end up killing him At international trade fair; Akhilesh projects UP as investment hub Sloth bear still holed up in house Now; 40 public holidays in UP 9% children suffering from TB resistant to key drug: Study BJP fields record number of Muslim candidates in Gujarat civic polls Lok Sabha Speaker requests Sonia Gandhi to fulfil grandkid's wish BJP woos Muslims in Hindutva laboratory Give prenups legal validity; Maneka Gandhi tells law minister Comrades await Kovan's release; plan reception CISF takes over security of Madras HC; frisks advocates Rains ravage Andhra Pradesh too Metro rail work may take a hit if downpour continues Record rains submerge Chennai; kill 71 in Tamil Nadu Hyderabad may be broken into 4 districts: Minister KCR inaugurates 396 two-bedroom houses for the poor Taxmen put the cart before the horse Housewife hangs self after Goa trip When Supreme Court sentenced a dead man to jail 11 best Android smartphones you can buy today Hold tests; interviews to select judges; Supreme Court urged City Centre-Sec 62 Metro line construction takes off HC seeks to know Telangana steps to save distressed ryots Lawyers to hold all-party meet for HC bench UP seeks Centre nod for Jewar; Agra airports Telangana govt told to file affidavit in IAS officers bldg demolition UP seeks Centre nod for Jewar; Agra airports HC seeks status report on AgriGold scam Huge pond dug up at Noida stadium GMC approves over 360 civic infrastructure works KCR to campaign in Warangal for bypolls BJP questions KCR on poll promises 305 criminals nabbed in Ghaziabad's Op Kick Out CM nod to reduce IAF zone to 300m INLD turns up heat on govt on high power tariff Education dept asked to construct schools on land allotted to it Decision on Kataria's bail plea tomorrow Hospital works on drone to transport organs Land acquisition to begin for underpasses Sikanderpur flyover turns traffic mess with wrong-side driving After Diwali break; gridlocked again AP panchayat raj GP 'misleads' HC on sand quarrying Clean chit to VK Singh over dog remark Minor molested; 1 held in Gurgaon Victims' families for stricter laws to curb road accidents Sufi renditions provide a healing touch Singhal 'very critical'; saffron bigwigs visit Supre Court: File report on shifting crematorium Pattiseema project advanced Water Board urges citizens to clear bills SHE team nabs seven persons for eve-teasing AP govt puts bauxite mining on hold TTD panel to study land outside AP Ashwini Ramane of Congress is new mayor of Kolhapur Mamata to attend Nitish's swearing-in on November 20 Mamata to attend Nitish's swearing-in on November 20 Tracks submerged; trains to South India cancelled Brussels couple fears backlash on Muslims in Europe 22 hurt as bus falls into pit in Surguja district US military bans troops and civilian personnel from travel to Paris 'France is at war;' President Francois Hollande says; asks US; Russia to join forces against ISIS Britain to hire 1;900 more spies to combat Islamic State militants KKR inks $105m deal to buy 70% in Avendus Capital India; EU set to resume FTA talks: Sitharaman Times NOW launched in UK Food; services push up retail inflation Times NOW launched in UK Government's gold bond scheme gets only 8 crore in first week Films from Bengal to be part of massive restoration project Sensex shrugs off weak start on bargain buying; gains 150 points Crackdown on rogue bikers Ethnic e-tailer Craftsvilla raises Rs 220 crore FSSAI moves SC on Maggi test remarks A book on Bachchan's KIFF speeches Man mortgages wife for Rs 30;000; kills lender later Manto magic leaves Kolkata spellbound Ramdev to take on Adidas; Nike with yogawear line Surprises in Salt Lake mayor council After Paris; Indian agencies scramble to review ISIS threat Civic body calls for police action on parking scam Promoter shot at in Dum Dum ISI agent got close to VIPs as bartender Pirates killed in Sunderbans gunfight Set up competent committee to monitor air quality: NGT 'Seven Wonders' replica at Eco Park Saeed was an insurance for any director GP Goenka answers CID call on garden complaint 'The bullets don't spare Muslims' Intellectuals slam Paris attack; fear intolerance rise Mitra's bail cancellation hearing in HC today Villager climbs to safety from jumbos Indian students in US up by record 29.4% Press Council needs more legislative powers Serious competition building up between IS & Taliban: Afghanistan minister Awards given by nation; return them only if you have nothing to do with country: Shyam Benegal Awards given by nation; return them only if you have nothing to do with country: Shyam Benegal Rahul claimed to be UK citizen; says Subramanian Swamy; Congress hits back Facing flak for Paris remarks; Azam Khan cries misinterpretation FTII has no record of chief's travel expenses Noida realtor held for 'land fraud' in Odisha US woman's rape charges false; claims Farooqui Private school teachers to suffer if 1973 Act changed 2 held with gold worth Rs. 1.2 crore Marriott deal creates world's biggest hotel chain Man tries to kill self inside police station Government gets a say in nursery admissions Delhi to ease norms for holding tourism events Bill drafted to get detention back after Class V Bill drafted to get detention back after Class V Trace missing girls; HC tells Delhi government Family says cops botched up probe Headless body found in SE Delhi forest; 2 held A day later; Akhilesh Yadav unsure on grand tie-up First ever GIS study shows 3;293 slum clusters in Mumbai Missing Uzbek dancer killed PM Modi seeks global teamwork for return of illicit funds Air filters now tools to fight pollution at home PIL against aid to Akhlaq's family dismissed Delhi pulls out all stops to mark Chhath today DDA launches apps to get feedback Swachh app gives AAP; BJP a common cause 2 schools get notices for RTE violation Chief minister Arvind Kejriwal issues VAT warning for traders Kejriwal to attend Nitish's swearing-in Foul air making diseases tougher to treat: Doctors G20 vows to push growth; backs India on IMF reforms Culture vultures to throng Bandra this week for their fill of art; music; theatre & city history PM Modi for Bali trade pact; warns against raft of regional deals Have right IS strategy and will see it through: Barack Obama Delink terror from religion; isolate those who back it: PM Narendra Modi Doctor penalized for botched up spine operation Now; enter a police station through this 'virtual thana' Centre to develop Nagaland's Doyang lake for birdwatchers Spain 'issues arrest warrant' for Israeli Prime Minister Benjamin Netanyahu New UK visa for Indian students? CBI gets 3 more days to quiz Chhota Rajan Jaffrey; actor who won hearts at home and the world; passes away Rahul has grip over party; is PM material: Captain Amarinder Singh Dal price rise follows 3-year spike pattern Despite Paris; Obama rejects calls for shift in ISIS fight Nitish invites Uddhav; Didi; Kejriwal for oath ceremony Six killed in Texas campsite incident; suspect in custody NRI slams SUV into gate on Pakistan's side of Wagah-Attari border Southern Railway cancels 13 trains; diverts four Work isn't all milk & honey; but Aavin keeps the flow Rescued animals in need of homes G20 vows to choke terror funds; flow of foreign fighters Chennai should tap floods to solve its water crisis Chennai shudders as floodgates of Chembarambakkam open Seven US states shut doors to Syrian refugees after Paris attack Zoo peripheral walls collapse; animals safe Panic buying makes essentials dearer Metro rail workers shifted to safer quarters Jaya visits RK Nagar; promises relief Save-cow cost: Industry bleeds; farmers suffer and exports tank After storm; brace for more rain but of lower intensity After deluge; city rises in rescue Home-cooked food too can cause obesity US firefighter gets most extensive face transplant Compulsory Tamil edu: Court wants panel to expedite matter 64 schools get British Council's int'l awards In Perungalathur; a step backward can be your last An ex-taxi driver bought $170m Modigliani Spanish daily wrongly labels Canadian Sikh as 'terrorist' Terror shadow on Washington Discovered: A new Venus-like planet Smartphones; tabs need 'bed mode' for uninterrupted sleep World's first 'porous' liquid to filter carbon emissions developed Instamom: A mother for social media Raw deal: Small tanneries shut shop; many lose jobs Abaaoud believed to be behind foiled train attack too Challans aplenty; but whither parking? Multi-level parking lots remain on paper Animated films lack funding in India Coca-Cola plans to test market Sprite Zero now Govt flouted norms to appoint health varsity VC? Times Internet buys majority in Taskbucks Oilmin plans to dump NELP for plug-&-play block auction model Exams near; but 90% jr colleges still to get affiliation Exports decline for 11th month in a row OU to serve notice over film shooting Rel Infra to sell 49% in power arm Centre declares NSCN-K a terror outfit Take a pragmatic approach to secure child's financial future Assam Rifles trying to gag Nagaland media? Five expense heads to keep in mind Mitchell Johnson announces retirement Seven Deadliest Attacks in Europe In a first; Apple targets corporates in India Bal Thackeray's death anniversary: Mumbai traffic to be badly hit NEC may stop funding to Alliance Air from next April Rally against HC's AFSPA ruling Himachal Pradesh government trains over 5;000 women Himachal CM hits back at BJP over campaign CAT relief to suspended IPS officer HC dismisses PIL on Cuttack smart city Train crushes youth to death in Jammu Farooq Abdullah to attend Nitish's swearing-in ceremony Global community must take cognizance of Sharif's communication to Andrabi: NPP Army Commander apprises Governor on security situation in J-K No influence of IS ideology in J&K; says top JK cop Mitchell Johnson retires: 10 of his best performances Trade body alleges discrimination in PM Modi's package Paris attack: Why Belgium is at the heart of a destructive wave of terror in Europe SIT formed to probe corruption allegation in LAWDA in JK Farooq; Omar invited by Nitish for swearing-in Duo arrested in J-K for cloning ATM cards; stealing money Drug peddler arrested in north Kashmir 14 killed; 54 injured in Satna; Dhar road accidents Infosys partners with Europe's largest startup accelerator Level 39 HC issues contempt notice to addl chief secy; transport chief Teenage girl ends life; kin alleges harassment Pakistan will not play series in India: Shaharyar Khan Cop dismissed for being absent for over 2;000 days Two attacked by honeybees at multiplex Sena MLAs eye cabinet berth Govt offices to observe Shahid Diwas Cops also bought plots on disputed land Unaided schools' teachers plan 'dindi' to Nagpur Civic body turns blind eye to Salim Ali lake encroachments Salman drives down from Karjat to attend Sania Mirza's birthday bash Yuvraj's mom: Hazel loves my son unconditionally Once sentenced for murder; now a teacher of Gandhian ideology Firm dupes youths on fake job promise Botsa seeks cancellation of GO permitting bauxite mining Rlys issue new EQ clearance timings Suicide rate high in T after bifurcation GO on bauxite mining violates the Constitution Every plan goes haywire in rain-hit games; recalls Srinath Civic problems corner East Point Colony Harassment by partners forces man to end life Devotees observe 'Lohanda' on 2nd day Power consumers' wait for bills becomes endless Poll spin-off: Digital outreach and woman empowerment PIC: Sussanne Khan enjoying vacation in Goa Students in city bunk classes to watch Raina Zoo to shunt out crocs for birds Nashik development plan submitted to state in record five months HC dismisses PIL against aid to Akhlaq's family School children crammed in rickshaws at high risk E-learning to start at state police academy soon Staff crunch hits civil hospital building Indian-origin cardiologist reelected mayor of US town CBSE issues 'correct' version of nat'l anthem Town planning scheme to enhance development; benefit all UPPSC mulls doing away with One Time Password Rlys working on infra upgrade' Curtains come down at Nashik's vintage cinema hall once used by Dadasaheb Phalke UPPSC declares interview schedule No let down in traffic accidents STDC to upgrade hotels; tourist bungalows Sania Mirza's b'day celebrations Indian-origin cardiologist reelected mayor of US town When Big B rushed for a selfie! Once-a-day water supply from today Man arrested for raping his mother Pregnant Rani Mukerji hospitalised after attending Diwali bashes Nashik's Sawant brothers now head to Albania for international art festival Chhath Puja: How clean is Yamuna? Narrow escape for Nilgiris Express; alert gang man spots crack in track Paris attacks: The French republic would destroy Islamic State; Francois Hollande says 25 tough questions asked in Apple interviews More allegations of torture of maids in Saudi Arabia surface Second dowry death in 3 days; numbers alarming Convicted neta's wife gets L'daga bypoll ticket Mass leave cripples health services Delhi concede slender lead; game hangs in the balance More help on way for drought-hit farmers This November set to be wettest in 100 yrs Young minds get to work at three-day Sasthrolsavam Officials point fingers at rain for delay in work Tourist safety comes into focus No native case of dengue in Nilgiris Tourist safety comes into focus Exhibition of rare books Dilapidated building near Town Hall collapses; none injured Kim Ki Duk's latest flick 'Stop' to be screened in IFFK BJP lays claim to three standing committees in corp Man run over by KSRTC bus; East Fort turns a death trap 1-crore sewerage scheme to be launched this month This lightning season; take cover Ravi Pillai to organize 10-cr charity event AAI to demand land for taxi track Andy Murray's swag and sway against David Ferrer Passenger train runs on Palakkad-Pollachi track Workers to get revised wages from this month Babu bribe case: Home minister passes the buck Fake bank callers dial a/c fraud Hangout with Miss India World 2015 - Aditi Arya PMK flays Jayalalithaa govt for failure to control Chennai flood Why 'selective outrage'; ask others UT loses Rs 225.18 crore Tricity drapes itself in French colours on FB Ready to apologize if I have done anything wrong: Punjab CM Pakistan better team than what rankings show: Azhar Ali Class 10 boy hangs himself at home Monks turn protectors of the planet Meter taxis not feasible in hills: Union Probe begins into Pakistani mobile network at Triund BJP questions silence of Cong top brass Emails bad for productivity? These companies think so 1L people to be included in ST category Kotla fire leaves 100 families in cold Man involved in gold smuggling cases held Give loan to sugar mill for cane farmers: High court With sun; good fence prevails State facing undeclared emergency Congress open to tie-ups with secular parties: Amarinder Body in suitcase dumped at Karnal was of Uzbek ballet dancer Virbhadra shows strength at rally HC summons record about jobs to mountaineers Sikh pilgrims to leave for Pak on Nov 20 Live: TN floods - Army; NDRF join rescue ops Cong writes to HC CJ on phone tapping by cops Trail to Jaffrey's house in Malerkotla leads to nowhere Hero Cycles set to acquire Sri Lanka-based company Police firing victim's kin move court for FIR copy Man 'mortgages' wife for 30k; kills lender friend over interest Sonam's Filmfare Dec. issue out! Nikita Dutta out of 'Dream Girl' Food in govt hospitals comes under HC lens Rohan Bopanna-Florin Mergea shock the Bryans brothers Singer-composer Shekhar Ravjiani falls ill after show at Bhubaneshwar Why Naxals don't attack Christians; asks Indresh HC seeks info on highway liquor vends Akhilesh seeks Centre nod for Jewar; Agra airports Decision on CBI closure report against Tytler on '84 riots today Security breached! NRI slams SUV into Pak gate at Attari Huccha Venkat: Mentally unstable or victim of bullying? Woman; relatives booked for abetting father-in-law's suicide Shiva cannot play Krishna Woman hangs herself at brother's place Rupee extends gains; up 10 paise vs dollar in early trade 4 construction workers held for growing ganja on outskirts of Coimbatore Sensex up 156 points in early trade on positive global cues Messi back in training five days before 'Clasico' Akhilesh projects UP as investment hub at trade fair B'luru property slowdown reflects in developers financials It's a love-cum-arranged marriage for Pooja Joshi Politics over Kalburgi death mars session Coimbatore's inland location saves it from cyclone fury Vendor cheats Flipkart of Rs 1.5 lakh Ranji Trophy: A batting treat after Karn threat Half of the water lost to leaks; illegal lines; says BWSSB chief 'Maharana Pratap' to wrap up in two weeks DMK councillors allege negligence by corporation; stage sit-in protest 125% increase in concrete in city over last 14 years; lakes shrank 85% Low birth weight could lead to dementia; suggests study Injured Aamir flies back home Shocking transformation of Bollywood celebrities! City scientist among Infy Prize winners Tribute: Bal Thackeray's controversial life in pics 22 photos of the devastation caused by Chennai floods Millets should be consumed in whole grain form to effectively fight diabetes Chhath Puja spl: All you need to know Aishwarya all set for 'Khatron Ke Khiladi' State may name BMRC after Kempegowda Purple line goes west; wait till June for Majestic interchange From food to fuel; they brim with ideas Rain worsens Monday blues; clogs roads Charlie Sheen to announce he is HIV positive Man with suspected H1N1 admitted to GH in Trichy These Zodiac Signs Are Most Likely To Cheat Milk to be added to mid-day meal in Rajasthan World's oldest Olympian dies aged 103 Akhil Herwadkar earns his stripes Man with suspected H1N1 admitted to GH in Trichy Aashiqui 2 lovers - Aditya Roy Kapur and Shraddha Kapoor reunite for another romance Don't create hurdles: HC tells BCCI; MCA Bombay HC to hear Salman Khan's plea to make singer Kamaal Khan a court witness Siril loses to Chia Hung in the final SM Krishna; Ricky Kej at Kavita Krishmanurti's daughter's reception Esha Gupta breaks up with boyfriend? Salman drives down from Karjat for b'day girl Sania Mirza Injured Saina Nehwal out of Hong Kong Open Super Series Liam Payne buys Harry Potter's flying car Bryant; Correa win Rookie of the Year honours Infosys warns of lower margins in Q3 Upendra sings four songs on the same day Socceroos land in Bangladesh amid heavy security Actress Sonalee tying the knot with ex-footballer Rajat Ghoshdastidar 'Peepli Live' co-director claims innocence in rape case Faridkot firing case: Rahul Gandhi to meet President Salman Khan road mishap case not similar to Alister Pereira's or Sanjeev Nanda's says his lawyer Belgium calls off Spain game after raised security alert Paris attacks: Faced with cyberwar; ISIS issues 'how not to get hacked' messages Rajasthan govt to bring parity in teachers salary Five Nagpur athletes to compete in Junior Nationals Katare bowls MSI to big win in Guzder League Rohan leads Ajni Sporting to win in VHA Hockey League Kabir Khan: Salman Khan living example of secularism Anil Kapoor: Saeed Jaffrey sought the camera's blessings before every shot Dahale jumps to sole lead in Fide Rating chess Next-generation Google Glass to come in 3 variants Need to guard against intrusive monitoring: India tells UNHRC Justin Bieber bags HALO Hall of fame award Leaders say no to Russian track at Rio Games Migraine dos and don'ts Nimboli and Chakor join hands to fight the odds Farah Khan to be feted in Cairo Star kids attend Aaradhya Bachchan's birthday bash JUST IN: Hindi TV shows grab international eyeballs Gurpreet; Abhishek; Zaan - new cops on 'Shapath' Kim shows off baby bump at friend's baby shower Chhath recipes you must try Shiva cannot play Krishna in 'Suryaputra Karn' Roger Waters: Final Pink Floyd reunion was really very cool Facebook opens up to Google searches; but only on smartphones Sex-guide for your age The best time to eat 'Tamasha' to be seen on I Can Do That's finale Paytm rakes in Rs 300 crore in 3-day Diwali sale Shyam Benegal: Learn to fight government politically CBI transfers top Ulfa leader Anup Chetia to Guwahati LocalOye lays off 60 employees MEAT SLUMP I can create unique EDM tracks with Indian music: DJ Snake Worst dressed celebrities in Bigg Boss house Brigade Omega Brigade Exotica Hungary keep Storck on as coach for Euro 2016 Sanskrit film to open Indian Panorama section at IFFI Meiyang Chang and Viktronix release 'Move On' France launches fresh air raids in Islamic State stronghold in Syria Dino: I was Bipasha Basu's first date in Bombay Remove Modi for talks with India to progress: Mani Shankar Aiyar to Pak TV channel RugbyU: Australia's Cheika rules out England job PM Narendra Modi greets nation on Chhath TOMATO TROUBLES Dino: I was Bipasha's first date in Bombay Pakistan violates ceasefire in Samba in Jammu Kejriwal-appointed panel to recommend suspension of DDCA Annual general meeting of the Avadh Alumnae Association organised in Lucknow Finding a solution Ranbir-Deepika go on a fishy date! Annual general meeting of the Avadh Alumnae Association organised in Lucknow Bickering threatens Formula One future More vitamins = better health? I'm criticised for not letting guests talk Bengali blockbuster 'Bela Seshe' completes 200 days Your horoscope for November 17 Christina Aguilera reuniting with 'Beautiful' songwriter NASA; ISRO join hands for climate studies Andy Murray not afraid to play Davis Cup final in Belgium Taylor praises England for countering Pakistan spin Hema Malini: Youngsters more interested in Bollywood style dancing Yasir doubtful as Pakistan seeks right combination England players honour Paris dead It's happening! Ryan Gosling confirms 'Blade Runner 2' role Watch Sriman Srimathi on Zee Kannada New Rosberg is showing his class now; says Wolff Willing to discuss all issues on GST: Arun Jaitley Taylor has his eyes on the prize France coach Deschamps hails grieving Diarra JJ Abrams reveals Oscar winning actress Lupita Nyong'o's character in Star Wars Friendly will be 'symbol of freedom': Germany's Loew Galle curator suspended for missing anti-graft meetings Rooney offers condolences to Paris victims Kerry Katona 'not in good place' after broken marriage 10 mistakes women make in bed New Zealand rein in Australia on final day in Perth Kenya dream of World Cup success amid chaos Oxford Dictionary's 'word' of the year is an emoji Open Source a hit with Bengaluru's techies Johnson special; enjoyed his aggressive approach: Tendulkar Richa Agarwal gives a makeover to contestants of Clean & Clear Chandigarh Times Fresh Face 2015 Maharashtra to revive water transport to Goa Fast-breaking Celtics surge past slumping Rockets Miruthan audio from December Shah Rukh Khan's day out in capital Russian stars slam 'completely unfair' suspension How to rock the roll-neck look this season 15 relationship truths for tough times Sana Sayyad and Ashwini Koul dating? Ryder Cup 'to spark golfing revolution' Is your partner cheating on you digitally? Adam Sandler croons fourth edition of 'The Hanukkah Song' Miley Cyrus helps Liam Hemsworth adopt dog Richa Agarwal gives a makeover to contestants of Clean & Clear Chandigarh Times Fresh Face 2015 Under scrutiny Umar Akmal denies wrongdoing Karisma Kapoor: Haven't decided my Bollywood comeback Life-Lessons for Little Boys Stylish Sari Blouses Spotted by Celebs Add quirk to your wedding celebrations Why Millionaires Love Staying at Beverly Hilton Ireland reaches Euro 2016 with 2-0 win over Bosnia Easy Detox Dinner Recipes They work very hard in Hollywood; I won't go there: Salman Khan Potato roasties; dark toasties can give you cancer Banks have a $380 billion market opportunity in financial inclusion: Accenture and CARE International UK Study As long as no 2002 repeat; Ireland will be fine: Keane Mocktale: Azam Khan again writes to UN for intolerance of Indians against stupidity Girl stuck in school lift in Hyderabad; dies Mamata Banerjee : Kolkata International Film Festival is for everybody Why high-fat diet is bad for your heart People more fearful of dying from sex than driving! Nadal makes short work of wayward Wawrinka Paatti Vaidhiyam at 7 am on Vijay TV Colors Gujarati to launch new show titled Suri As parts of Chennai stay submerged; Army; Air Force join rescue operations France should not host Euro 2016: Fontaine Wrong pain-killers damage kidney among diabetes patients Ronan Keating brushes off Brian Mcfadden feud rumours Rose McGowan lashes out at Caitlyn's 'stereotypical' speech Hemant Choudhary in Star Plus' 'Siya Ke Ram' Five trains diverted due to heavy rain in Tamil Nadu Sooraj Barjatya: More family films should be made FIFA bans Nepal football chief for corruption Top 3 factors to know before investing in a property Railways cancels nine trains due to heavy rain in Tamil Nadu Actor in custody for attempt to murder Green cover becomes a USP for Chennai projects Real estate sector gets FDI bonanza Nagpur collegians put winter vacation to creative use Arumbakkam offers all the amenities Parts of Chennai submerged; Army; Air Force join rescue ops Did Nostradamus predict Paris attack? How raisins can ruin your teeth LeAnn Rimes does not care about her husband's opinion Air service from Jaisalmer airport not likely soon Delegation meets Venkaiah Naidu over Women's Reservation Bill 6.7 magnitude earthquake strikes western Greece Nicki Minaj back on Twitter; Instagram LiLo begins shooting after 'hiatus' 9 ways Snapdragon 820 will change smartphones in 2016 'Bhagyalakshmi' actress gets engaged! Government reaches out to pvt firms to raise forest cover Plan crash: Time to bid farewell to Noida airport dream? Coach's criticism drives Hertha striker Kalou Divyanka Tripathi got injured on the sets of Ye Hai Mohabbatein No indication of intolerance on ground in India: Arun Jaitley Simon Cowell: One Direction are totally exhausted Lenovo launches Vibe X3 smartphone with fingerprint sensor; Snapdragon 808 processor and a very high-powered rear camera Farah Khan to make film on 'girl power' Denzel Washington chosen for Cecil B. DeMille Award Tata Teleservices opposes relaxing spectrum cap rules Sushant Singh: Initially I thought I had failed as an anchor Jennifer Hudson talks to dead mother; brother 'all the time' Bal Thackeray's memorial to come up at Mumbai Mayor's bungalow; says Devendra Fadnavis Govt gives clean chit to former CJI KG Balakrishnan in 'benami' properties case Gloomy Argentina chase first qualifying win Walters firers Ireland into Euro 2016 Alia Bhatt; Parineeti Chopra not approached for Farah Khan's next film Veteran FFA chief Lowy steps down Government's ambitious North East BPO plan turning into a flop show Pahlaj Nihlani to make a film slamming FTII students Shaan Rahman wraps up composing for three films Is Charlie Sheen HIV positive? Oxford Dictionary's 'word' of the year is an emoji 'Blood-stained' vest found in River Mandovi\""
      ]
     },
     "execution_count": 14,
     "metadata": {},
     "output_type": "execute_result"
    }
   ],
   "source": [
    "merge.iloc[1,1]"
   ]
  },
  {
   "cell_type": "code",
   "execution_count": 15,
   "metadata": {},
   "outputs": [],
   "source": [
    "#Adding label to stock data\n",
    "\n",
    "prev=merge[\"Close\"][0]\n",
    "Label=[1]\n",
    "for i in range(1, len(merge['Close'])):\n",
    "    if merge[\"Close\"][i]>=prev:\n",
    "        Label.append(1)\n",
    "    else:\n",
    "        Label.append(0)\n",
    "    prev= merge[\"Close\"][i]"
   ]
  },
  {
   "cell_type": "code",
   "execution_count": 16,
   "metadata": {},
   "outputs": [
    {
     "data": {
      "text/html": [
       "<div>\n",
       "<style scoped>\n",
       "    .dataframe tbody tr th:only-of-type {\n",
       "        vertical-align: middle;\n",
       "    }\n",
       "\n",
       "    .dataframe tbody tr th {\n",
       "        vertical-align: top;\n",
       "    }\n",
       "\n",
       "    .dataframe thead th {\n",
       "        text-align: right;\n",
       "    }\n",
       "</style>\n",
       "<table border=\"1\" class=\"dataframe\">\n",
       "  <thead>\n",
       "    <tr style=\"text-align: right;\">\n",
       "      <th></th>\n",
       "      <th>Date</th>\n",
       "      <th>headline_text</th>\n",
       "      <th>Open</th>\n",
       "      <th>High</th>\n",
       "      <th>Low</th>\n",
       "      <th>Close</th>\n",
       "      <th>Label</th>\n",
       "    </tr>\n",
       "  </thead>\n",
       "  <tbody>\n",
       "    <tr>\n",
       "      <th>0</th>\n",
       "      <td>2015-11-16</td>\n",
       "      <td>5 must-have nutrients for women's health Sride...</td>\n",
       "      <td>25580.150391</td>\n",
       "      <td>25866.419922</td>\n",
       "      <td>25451.419922</td>\n",
       "      <td>25760.099609</td>\n",
       "      <td>1</td>\n",
       "    </tr>\n",
       "    <tr>\n",
       "      <th>1</th>\n",
       "      <td>2015-11-17</td>\n",
       "      <td>How healthy is your fridge (Quiz) The curious ...</td>\n",
       "      <td>25897.880859</td>\n",
       "      <td>25948.199219</td>\n",
       "      <td>25732.789063</td>\n",
       "      <td>25864.470703</td>\n",
       "      <td>1</td>\n",
       "    </tr>\n",
       "    <tr>\n",
       "      <th>2</th>\n",
       "      <td>2015-11-18</td>\n",
       "      <td>Most talked about celebrity divorces ISL: Kolk...</td>\n",
       "      <td>25837.710938</td>\n",
       "      <td>25890.359375</td>\n",
       "      <td>25453.320313</td>\n",
       "      <td>25482.519531</td>\n",
       "      <td>0</td>\n",
       "    </tr>\n",
       "    <tr>\n",
       "      <th>3</th>\n",
       "      <td>2015-11-19</td>\n",
       "      <td>International Men's Day: 7 things men are so p...</td>\n",
       "      <td>25640.339844</td>\n",
       "      <td>25884.519531</td>\n",
       "      <td>25603.099609</td>\n",
       "      <td>25841.919922</td>\n",
       "      <td>1</td>\n",
       "    </tr>\n",
       "    <tr>\n",
       "      <th>4</th>\n",
       "      <td>2015-11-20</td>\n",
       "      <td>Food items to keep away from your toddler Shou...</td>\n",
       "      <td>25856.130859</td>\n",
       "      <td>26058.759766</td>\n",
       "      <td>25769.810547</td>\n",
       "      <td>25868.490234</td>\n",
       "      <td>1</td>\n",
       "    </tr>\n",
       "    <tr>\n",
       "      <th>5</th>\n",
       "      <td>2015-11-23</td>\n",
       "      <td>10 herbs to battle diabetes 8 things you shoul...</td>\n",
       "      <td>25945.140625</td>\n",
       "      <td>25958.039063</td>\n",
       "      <td>25747.009766</td>\n",
       "      <td>25819.339844</td>\n",
       "      <td>0</td>\n",
       "    </tr>\n",
       "    <tr>\n",
       "      <th>6</th>\n",
       "      <td>2015-11-24</td>\n",
       "      <td>UEFA Champions League: Maccavi Tel-Aviv vs Che...</td>\n",
       "      <td>25785.609375</td>\n",
       "      <td>25901.560547</td>\n",
       "      <td>25703.859375</td>\n",
       "      <td>25775.740234</td>\n",
       "      <td>0</td>\n",
       "    </tr>\n",
       "  </tbody>\n",
       "</table>\n",
       "</div>"
      ],
      "text/plain": [
       "        Date                                      headline_text          Open  \\\n",
       "0 2015-11-16  5 must-have nutrients for women's health Sride...  25580.150391   \n",
       "1 2015-11-17  How healthy is your fridge (Quiz) The curious ...  25897.880859   \n",
       "2 2015-11-18  Most talked about celebrity divorces ISL: Kolk...  25837.710938   \n",
       "3 2015-11-19  International Men's Day: 7 things men are so p...  25640.339844   \n",
       "4 2015-11-20  Food items to keep away from your toddler Shou...  25856.130859   \n",
       "5 2015-11-23  10 herbs to battle diabetes 8 things you shoul...  25945.140625   \n",
       "6 2015-11-24  UEFA Champions League: Maccavi Tel-Aviv vs Che...  25785.609375   \n",
       "\n",
       "           High           Low         Close  Label  \n",
       "0  25866.419922  25451.419922  25760.099609      1  \n",
       "1  25948.199219  25732.789063  25864.470703      1  \n",
       "2  25890.359375  25453.320313  25482.519531      0  \n",
       "3  25884.519531  25603.099609  25841.919922      1  \n",
       "4  26058.759766  25769.810547  25868.490234      1  \n",
       "5  25958.039063  25747.009766  25819.339844      0  \n",
       "6  25901.560547  25703.859375  25775.740234      0  "
      ]
     },
     "execution_count": 16,
     "metadata": {},
     "output_type": "execute_result"
    }
   ],
   "source": [
    "merge[\"Label\"]=Label\n",
    "merge.head(7)"
   ]
  },
  {
   "cell_type": "code",
   "execution_count": 17,
   "metadata": {},
   "outputs": [],
   "source": [
    "headlines = []\n",
    "for row in range(0,len(merge.index)):\n",
    "    headlines.append(merge.iloc[row,1])"
   ]
  },
  {
   "cell_type": "code",
   "execution_count": 18,
   "metadata": {},
   "outputs": [
    {
     "data": {
      "text/plain": [
       "\"5 must-have nutrients for women's health Sridevi: Rare images that should not be missed Tennis: ATP World Tour Finals Mrunmayee Deshpande turns debutant director Sonali Bendre wants to make a comeback to Marathi films 'Banglavil Outha' on TV Bobby Dhingra Mrs Nita Kawatra Late Rachel Tommy MTNL planning to launch free roaming service soon Popular films based on children's books Book review: Salim-Javed decoded! PIC: This is how Aaradhya celebrated Diwali Newly wed: Bindu Subramaniam & Sanjeev Nayak GV Prakash will be seen in an action avatar for Sam Anton's next Why do women lie while sexting? Seven more top actors to play cameo in Inji Iduppazhagi Lack of sleep could give you diabetes I want to act with Mohanlal : Siddhartha Lama Prithviraj has matured as an actor: Biju Menon Prayaga to slim down for her M-Town debut Make this season your healthiest with supplements 2015 is the year of the 'unusual' villain Cailin has fun at the Diwali get-together organised at the German Consulate; Chennai Cailin has fun at the Diwali get-together organised at the German Consulate; Chennai Finding it difficult to concentrate? Many cancers are curable if diagnosed early Time for some post-Diwali healthcare Downward momentum in stocks likely to continue; WPI data key Film festival sees a starry opening in Hyderabad Film festival sees a starry opening in Hyderabad BMC to put out Devpt Control Rules soon Organ donation tally nears 2014's record Cabbies to go off roads tomorrow; on Thursday Sena may up the ante on Pak after attacks in Paris Bar girl claims cop demanded sexual favours; files complaint Minister visits 'pulse hoarder'; faces flak Eucharistic Congress ends with message of tolerance Villages near Tansa live in fear of leopards Security beefed up at stations; coastline My students from France scared; but keen on normal life: City tutor Tech-savvy bird-watchers hope to make a flutter with new sightings Rajdhani Exp to Goa via Vasai; Panvel flagged off Navy Day spl air show for challenged kids Man falls into creek; claims friend pushed him in FC Goa want football park in city Injured Watt out of ISL MPCB makes coal wash; beneficiation mandatory for coal companies Microbial resistance causes major worries Cardiologist runs swine flu ward! Youth ends life due to illness Indo Rama hopes to book profits next quarter Jaanta Raja to recreate how Shivaji became Chhatrapati Rail connectivity can be engine of Goa's growth; says railways minister Pote: Fire fighting machinery at all state MIDCs units soon RP 2021 needs a thorough look-through; say activists Paragliders fly free sans permission Tribute to French actress at Iffi 2015 Agri communities celebrate Dhillo & Dhenlo Betul land will be given for defexpo on trial basis first AIDS therapy centres headless; patients cry foul Filmi stalwarts to host masterclasses Social shame worse than death by AIDS Landlord evicts elderly woman; Morjim tense Dudhsagar tourists demand more jeeps CM; Parrikar release book on Bandodkar Govt-builder nexus botching up Bismarque probe We share the pain; grief of French people CM assures tourists of safety in state IRB turning blind eye to lamani menace at Calangute Creche course for bundles of joy Local birders take active part in Salim Ali bird count Philanthropist father fighting to trace lost son Aap Ki Sadak plan ready to roll out Cartels warm up for Maha legislature's winter session Man stabbed to death Delhi's Sangam Vihar for not returning Rs 1;800; 1 held Former deputy Speaker Shende passes away Hindu scholar to speak on Islam at Mahmoodabad Delhi govt to 'set right' roads under PWD CCRI transferring tissue culture nursery tech to private nurseries Budding entrepreneurs put ideas into practice at Index LED TVs worth 50 crore seized in Delhi UP BJP to brainstorm over Bihar debacle Model booked for abusing cop Tender to appoint new consultant for Indian Safari raises stink Occupy UGC expands scope; protests WTO-GATS offer If voicing truth is revolt; I am a rebel: Shatrughan Debris dumped in Koparkhairane mangroves; but officials clueless Delhi: 5 robberies in 90 minutes; two youth arrested Man nabbed for auto-theft; duping jeweller Delhi Police officials told to reply in 1984 riots case State proposes 8-hr learning day for kids; schools not happy Murderer nabbed in Gudamba Three women held for theft at Rajiv Chowk Metro station Court hauls up SRA for 'illegal' tenement sale Delhi govt transfers land in 95 villages to revenue department Bring back exams in schools: Govt IIT students plan cycle-sharing system for on-campus transport Folk; devotional songs on Juhu Chhath menu: City Cong chief Sharing pain of losing dear ones to road accidents FDCM delaying RTI info on Gorewada Traffic post timers not functioning Lieutenant governor Najeeb Jung reviews security of key installations Itwari-based bizman; family go missing Death of accident victims condoled in Ludhiana Trucker injured in accidental fire from RTO inspector's gun Positivity keeps this Ludhiana woman pretty Nothing worse than massacre of innocent: CM 24-hour water project sinks in Chandigarh Chandigarh: Nominated councillor writes to adviser for MC's autonomy Come January; Chandigarh Club to elect new panel after 11 years Car theft: Robbers are pros; could be involved in more cases in Ludhiana 2 women commit suicide inside gurdwara dorm in Ludhiana Ludhinan's District Bar Association goes to polls in December State level event organised in Ludhiana to pay tribute to martyr Ludhiana kids' take on Bollywood spices up Children's Day Dizzy? It could be cybersickness Martyr Kartar Singh Sarabha remembered in Ludhiana Ludhiana: Run against drugs; run for life Chandigarh police drive home message of safe driving Chandigarh walks for road safety Chhath Puja begins with bang in Chandigarh Bats: New winged attraction at Chandigarh's Chhatbir WWICS ordered to refund Rs 7 lakh to Ludhiana complainant 250 rounds fired in police encounter with dacoits Feeding birds could spread diseases in humans: Study Chandigarh Muslims condemn Paris attacks Pinjore cylinder blast toll touches 4 FIR against NSUI men for casteist remark against Modi Upload death; birth info online: Panchkula MC to hospitals Chandigarh's PEC to host painting and sculpture workshop Awakening message in dance drama at carnival Paris attack: Manhunt for the 'dangerous' 8th suspect under way as investigation widens Chandigarh to put out nursery admission schedule this week Fight against campus sexual assault goes digital Now; get power bill details on cellphone Class XI student killed in road accident in Mohali Online assessment at National College; today Lasers to make materials hotter than Sun's core 'Don't see ISIS in light of religion' Laser helmet at SGPGI to check hair loss Every house in Punjab hatched Sarbat Khalsa conspiracy: Congress Patrons enjoy royal game in retro ambience Sikh sects to go head with plan to besiege Akalis in Bathinda Coming up; center to certify fitness of vehicles PPP slams Punjab government for attack on privacy Protesters' plan to gherao ministers foiled in Patiala SGPC to discuss removal of Akal Takht jathedar Whitefly attack on cotton crop claims another life in Faridkot Bihar-like grand alliance possible in UP: Akhilesh Yadav Ban on Sardar Jokes: Comedians Santa-Banta exit 3 lakh cops in UP to go on a day's stir next month Congress rally in CM Virbhadra Singh's support today in Shimla Online permits not available; tourists spend day standing in queues in Manali Rajnath Singh; Manohar Lal Khattar visit ailing Ashok Singhal 3 more held in Chandigarh for Haryana TET paper leak Bid to break Rubik mosaic record on Manjunath anniv Himachal CM lays foundation stone of engineering college Faridabad man gets Rs 77 crore power bill; 3 shunted It's a special life of dogs trained for Army Divorced daughter of freedom fighter not entitled to pension: HC No desks or chairs; but Haryana govt schools to get 'smart' classes Haryana TET paper leak case: Suspect rounded up in Rohtak Poor response to bid for waste treatment plant in Shimla Get registered before crossing Rohtang Pass Fire reduces 50 houses of Kullu village to ashes Himachal polls: HLP looks at Bihar-like Mahagathbandhan Metro fast-tracks five routes Movie buffs miss Bengali films at KIFF Civil Hospital goes without power for 14 hours; no water for five days Haryana industrialists unhappy with floor area ratio hike No case filed in 3-year-old boy's death Tips for Salt Lake civic body to 'think globally; act locally' Chasing the thrill of biking up and down the muddy trails Crackers drive pets crazy in Diwali week 100 Gurgaon cops beef up security for VIPs Kin of suspected ISI agent claim innocence 884 vacancies keep Gurgaon police force stretched New e-way sectors to get infrastructure boost; projects take off Howrah couple; son beaten up by 'TMC' supporters Women molested during immersion Noida's traffic infrastructure is failing; says report Cops under attack for performing duty Local trains to get public address system Kolkata: Cycle rally for AIDS awareness PM rider on West Bengal CM's Patna visit Central government orders probe into Maharashtra Wakf board mess Noida remembers road accident victims Cancer drugs; stents at 60% discount soon Centre wary after Mamata Banerjee meet with Chinese VP Girl; father booked for engineering student murder in Ghaziabad Terror can strike anywhere Alliance Franaise du Bengale director UGC sends reminder to varsities about women's safety Opposition looks to put government on mat over 'intolerance' My heart bleeds for all victims & their families Month after PhD exam; Shivaji University; Kolhapur seeks information on guides Malda murder and heist: Cops detain victim's hubby 'It's almost like Mumbai' Kolhapur may have commissionerate soon Postpone Rajya Natya Spardha by a week Panels to take Beti Bachao scheme ahead in Maharashtra districts Kolhapur's mayoral election today Centre to hold talks with parties on pending bills Century-old wrestlers' arena is Kolhapur's identity; symbol of social harmony Maharashtra set to enhance power grid at a cost of Rs 367 crore UGC sends reminder to varsities about women's safety measures Bihar election shows caste system still holds sway Garbage containers across Kolhapur overflowing Postpone Rajya Natya Spardha Butterfly park opened in Trichy Special LEDs put up to watch Maha Samprokshanam in Trichy Vehicles; including buses; to take alternate routes in Trichy Sivakasi manufacturers enjoy a good Diwali; wants to focus on exports Big fish Gangi Reddy caught on a hook; again Mild rain exposes poor state of roads in Trichy Roofs on the railway station begin to leak; passengers unhappy in Trichy Telangana government moving fast to tax e-commerce companies FTII students take protest to IFFI Goa Crops in over 200 hectares damaged in delta region in Trichy Suspected case of death by H1N1 in Trichy Man electrocuted while trying to clear rain water in Trichy Some fat in food beneficial; say doctors in Coimbatore Car-free stretches dedicated to children this Sunday in Coimbatore Coimbatore's VOC Park zoo headless yet again Tamil Nadu BJP chief slams govt for 'slack relief measures' in flood-hit Chennai Coimbatore-based hospital opens rural health centre 19-year-old nursing student electrocuted in Coimbatore Coimbatore: 16 months on; omnibus stand yet to be shifted to better location Caught stealing; youth ends life in Coimbatore Ooty taluk to soon get first open defecation-free panchayat Education institutions in Puducherry to remain closed today Gangi Reddy: The 'Woodpecker' from Kadapa CPM to make its presence felt in West Bengal with plenum IIT students plan cycle-sharing system for on-campus transport Rajasthan; MP police teams rescue abducted youths ACP held for graft is a freedom fighter's son Automobile art to beautify airport Jaipur Art summit from November 21 Government lease land details to be made online Encroachments taking toll on heritage mound in Udaipur MSME sector to be priority at Resurgent Rajasthan Partnership Summit MoEF team to visit Hyderabad for pollution check MoEF team to visit Hyderabad for pollution check New US bill with H1B visa curbs to hurt IT firms Creche course for bundles of joy US bill on visa curbs bodes ill for IT firms Group A services hope for end to IAS dominance 'International photo fest will boost Jaipur's image' Mid-day meal not providing needed calories to students Government wants 5 structures in Udaipur off its 'protected' list Jaipur: 4 cops shifted in Nagaur custodial death case Seven temples on Jaipur Metro route to be shifted soon Jodhpur to see three-day international meet on Shakespeare Viral influenza victimising people in Jaipur; say doctors Jaipur: Lokayukta's wife targeted over bank account; ATM details Pakistan leaders vow to protect Hindus Soon; windmill project in Jaisalmer to power trains Pune Varsity's hostel admissions to go digital from next year Doctors missing; garbage all over at Bikaner government hospital Women push hard for government's drive to build loos in Ajmer Tobacco-free Raksha Bandhan: Bundi woman bags first prize Looks like a bee; but is really an orchid Sagarika Ghose: Advani ki vani City college adopts renewable energy New DP adopts conservation; makes reuse of water a must State government plans to set up one rationing zone for every assembly constituency Dileep Padgaonkar: A time of reckoning - Strike hard against terror now; wherever it raises its head 7 injured in expressway accident near Nigdi Modi's UK visit boosts case for more investments and greater strategic cooperation Paris's 26/11 calls for coordinated international response; India too must be wary Youth arrested for robbing engineer in Koregaon Park area State gets stern about crumbling bldgs Want to partner India in smart cities: Huawei Citizens seek regulation of six-seater rickshaws Norms for old buildings stir legal debate Civic body may offer TDR against land acquired for transport project 100 sickles edge out costly firearms Two robbers held after long chase New act bans teachers' protest during examinations Study to give new lease of life to parks Tipu kept alive social balancing of politics followed by Deccani rulers IS theology markedly unlike 20th century Islam Attacks may divide city; fear Parisians France strikes major ISIS targets in Syria in retaliation for Paris attacks Government to set up fund for banks' stressed assets Out for fun on a Friday; victims were mostly young Mostefai: From petty crimes to terror job Kalaari backs discount coupon site CashKaro Kalaari backs discount coupon site CashKaro Your office canteen may soon offer Burger King More rain sinks Chennai; inept corporation; illegal sites exposed PMO: End row between NHAI; private players Commit to internet for all; Mittal tells G20 Chennai sinking? Here's why North Chennai - Running out of medicines; food; elderly shiver in dark Lloyd's needs to have physical marketplace Sectarian divide allows IS to grow as power centre India; Bangladesh sign pact on operating sea vessels Army chief to visit Japan Global markets brace for jolt after Paris attacks IMF upbeat on India's growth prospects Starve terrorists of funds; PM Modi tells Brics South Chennai - Madipakkam gives jitters to residents and visitors alike Chennai citizens mobilise rain relief through social media India's most wanted stocks With rain as cover; private companies in Chennai dump waste on roads Paris unites in defiant solidarity; then scatters in panic After Paris attacks; fugitive slipped through police dragnet The S-files - the village path Ready a default plan Where to keep your emergency funds Panel: Chennai hospital to pay boy Rs 10 lakh for lost arm Need to step up public investment; not just rely on monetary policy; says PM UK to boost funding for intel agencies; aviation security UN to unveil plan to prevent violent extremism: Ban Ki-moon G20 Summit: Must stand as one against terrorism; PM Modi says Michigan governor puts refugee acceptance efforts on hold Syrian refugee policy takes focus in US presidential race No flying chance to escape rain at Chennai's leaky airport Schools and colleges in Chennai to remain closed as downpour continues France to Syria: Journey of a western jihadi Waterlogged Chennai hospitals turn cauldrons of disease 1990 polls annulled 2 years later Puducherry pays homage to Paris attack victims Puducherry pays homage to Paris attack victims Paris attacks a reaction to US actions in Syria; Iraq: Azam Khan Shift to be smooth: Myanmar President After rainfall; rare birds fill lake in Chennai's zoo 2015 LOCAL ELECTIONS - Dream merchants are back Paris attacks: Urdu press front-pages carnage; echoes global outrage Indian writer's granddaughter recounts tale of Paris horror G20 Summit turns into anti-terror meet as leaders call for joint action Lokayukta set to be suspended as BJP plans motion in House Last stories from lost villages of Karnataka Tipu controversy: Two arrested for death of VHP activist in Madikeri New Delhi Municipal Council likely to regularise 7;000 contractual staff 32k Chinese will run for Bengaluru's midnight marathon Paris burning: Teen recalls commotion in Paris stadium 63% of missing kids go untraced in Bengaluru French in Bengaluru mourn tragedy Bengaluru Metro zooms into the west today; Magadi Road-Mysuru Road line opens Bengaluru Metro zooms into the west todayMagadiRoad MysuruRoad line opens Bengaluru's food mart unsure of its future Tipu violence and bribery scam to rock the Karnataka Assembly Bengaluru in deep freeze; expect more rain Delhi BJP to protest during assembly session Bengaluru: Two held for cheating many with 'miracle medicine' 1 in 5 Delhi schools doesn't have fire safety nod: Report With more officials; immigration queues set to shrink Yoga gurus across borders GAAM NU GOSSIP - Justice from the other world Archaeological Survey of India draws draft list of 'must-see' monuments Police nab domestic help for theft Smuggling of foreign cigarettes rampant in state Choose carefully Lack of sleep can cause diabetes; say experts Bharuch man tipped off killers; says ATS Idea of justice Paris attacks: Police stopped Paris attack suspect near Belgian border hours after the killings - but let him go Satellite trader duped of Rs. 5 lakh President's medal for innovation Road accidents take 13 lives every day in state: NCRB Court extends Bapunagar cleric's police remand WOMEN UNDER ATTACK - Old case reopened after minor's rape US FDA to train 100 officers at GFSU Care for water 400 kg help saves careers in peril NASA; ISRO join hands for space imaging; climate studies Why no SEC effort to tell voters about NOTA? Will back reserved category nominees of BJP; Cong KCR urged to save playgrounds from land sharks Urgent curbs needed on food adulteration Child abduction cases on the rise in city Parents grow wary with kids' internet habits Beirut; also the site of deadly attacks last week; feels ignored Consumer can get his dues from any or all liable parties Terrorism; the contagion which cunningly feeds on our impulses Challenge is to empower bowlers: Bharat Arun Now; World T20 sword hangs over Kotla 2nd Test: Bad weather holds Indians back on Day 2 11 best Android smartphones you can buy today China says global war on terror should also target Uighur militants Aamir suffers a serious shoulder injury on the sets of 'Dangal' Actor Emraan Hashmi narrowly escapes mob attack ISL: Blasters thump NEUFC Pliskova shines as Czechs win fourth Fed Cup in five years Yuvraj's mom says Hazel is her reflection A decade later; Liga row returns to rile Carlos Introducing Miss India Supranational Aafreen This is what your stomach does to a cheeseburger Annoyed wedding photographer spells out why phones at a wedding are the worst in viral Facebook post Nico Rosberg remembers Paris with Brazil triumph Shukla's 6-wkt haul helps Jharkhand bowl out Tripura for 166 HOW SMOKING DAMAGES SPERM Ranbir's film to clash with grandfather's film at the box-office Flipkart's new plan to encourage employee retention CISF cover for Madras high court: Where to park your vehicles Blurry future for Bangladeshi teens caught in Indian territory (Feature) SpiceJet launches Amritsar-Dubai direct flight Djokovic blows Nishikori away Saina fails to clear final hurdle in China Open Pakistani national who strayed into India sent back home SAD (A) president Simranjit Singh Mann alleges 'house arrest' One booked for raping woman Celebs in their school uniform Sunny; Sanjay & Chunky's rare pic Foundation stone of sports univ to be laid soon:DONER minister Yuvraj confirms his engagement! Ranji: Assam skittle out Delhi for 149 HJC would rattle BJP government in Haryana: Bishnoi France bombs Islamic State HQ; hunts attacker who got away A reincarnation love story starts tonight on TV Watch: When a false alarm sparked panic in Paris Over 70 houses burnt in Himachal village NRLM: Himachal focuses on training women in fund management CM lays foundation stone of engineering college at Kotla Rachel and Monica were secretly replaced on F.R.I.E.N.D.S Pink; white cherry revolution livens up Shillong PM's package to give fresh relief to the flood-hit: Mehbooba Tribal conclave starts in Jamshedpur 3 iron ore-laden vehicles torched in Maoist arson Cancer drugs; stents at 60% discount soon Operation Clean-Up - In focus: Conflict of loyalty Govt to implement National Food Safety Act in J&K Tributes paid to veteran J&K journalist Ved Bhasin Pilgrim dies of cardiac arrest in Katra Doctor attacked; one held Police constable among 2 killed in road mishaps in Jammu Parvez Rasool to set up cricket academy in Bijbehara Yoga can solve various health issues: Nirmal Singh J&K to seek investment at Arab-India economic forum Toddler dies in accidental fire in J-K Two more accused in Udhampur attack sent to police custody Rupee down 9 paise against dollar in early trade Ross Taylor ticks off records during epic 290 Sensex opens 100 points down; Nifty below 7;750 Electricity bill information on cellphone in UP Ajith advised three months rest Music and masti keep players busy Chhath fasting begins Ranji: Spirited Shardul destroys Railways 32 more dolphins found in Chambal river Madonna cries onstage as she pays tribute to Paris victims SCIT vaccination a boon for allergy patients PIC: Salman Khan posts picture with entire family City's leather units bear brunt of terror attack in Paris England; France unite for solemn friendly Bigg Boss: Huccha Venkat beats up Ravi Mooruru! Puneet Vashisht's journey ends in 'Bigg Boss 9' Infosys helping clients set up captive tech centres 7 labourers die in road mishap Chowk Bazaar area restoration runs into rough weather Siril becomes first Indian boy to reach Junior World C'ships final Germany host 'solidarity' friendly after Paris attacks Swachh cess pinches pockets; Bhopal gives a thumps down Woman refuses money for liquor; son sets self on fire Jabalpur: Army personnel shoots self 4 days on; tiger pugmarks tracked; but not trapped Now; book ticket 30 min before train departure This is what southern India looks like from space Armed dacoity caught on camera in Sagar Bigg Boss: Angry Sudeep evicts Huccha Venkat Junior Editor: Waste segregation at source point holds key Raut upsets third seed Kherdekar in Fide rating chess Daniel Radcliffe leads a 'hilariously mundane' life Financier's office torched after families clash in city Horse; camel races carry ahead 750-year-old tradition Valuables worth 15.86L stolen after break-in Foo Fighters cancel their remaining Europe tour Chhota Nagpur drub Unique Club 9-0 in VHA League Iraq warned of attacks before Paris assault 9 people killed in separate road accidents since Diwali Park holds off Ciganda to claim Ochoa Invitational Iraq warned of attacks before Paris assault Noida e-way sectors to get infrastructure boost Nav Maharashtra KM to hold Vidarbha level kho-kho and cross country Scores of Cong workers join BJP in Savarkundla Work on six Smart City projects in state to begin soon; says CM No more water cuts in Rajkot city; promises BJP Raj Babbar to campaign for Congress BJP Gondal office ransacked; workers beaten Robin Uthappa to get married early next year I will never meet Sudeep again: Huccha Venkat Touching message against Islamophobia goes viral This is what your stomach does to a cheeseburger H1-b visa stress Ranji: Wakhare; Yadav bowl out Team Rajasthan for 216 Amreli woman accuses boyfriend of raping her Demolition of homeo hosp building irks health dept Pacy Umesh serves reminder with hat-trick IIM-Calcutta finishes summer placements for first year PGDM students Actor slammed for insensitive Paris attack tweets Rosberg says he has the upper hand; head unchanged Party turns tragic as banker drowns in resort pool Geeta: I hope Salman helps me find my parents like he did for Munni Bombs found in market Reese Witherspoon's 'nurturing' make-up artist Taylor scores 290 to give New Zealand first innings lead The car has changed since Singapore: Hamilton Mission Kashmir: Div-II club aims for recognition Technomall to get a fresh lease of life soon Aligarh administration tightens its grip on mischief-makers Govt overruled objections to aid illegal filling of land Jharkhand celebrates statehood day Govt hosps told to keep drug reps away Muslims join in Chhat Puja celebrations Children's day but not for these children 'Love jihad victim' goes home with Muslim lover '70 per cent people don't know they are diabetic' Federer outclasses Berdych in London opener ''Manto' relevant when free speech not easy in India; Pakistan' 'Love jihad victim' goes home with Muslim lover Blood-brain barrier breached to treat cancer Blake Shelton pays tribute to 'Hero' brother Richie Shelton Gujaratis condemn Paris attacks Dizzy? It could be cybersickness Where to buy villas from Rs 50L in Hyderabad Lily-rose Depp escaped Paris attacks Facebook CEO responds to Safety Check controversy Thoongavanam Feeding birds could spread diseases in humans: Study McDowell; Knox share lead in rain-hit Mayakoba Cashless insurance scheme for Punjab govt employees Stranded in France; Indoreans narrate ordeal Kesarbagh ROB construction work to resume today Children's Day at Mercury Army School Liver transplant facility from next year: City doc Vedalam Sampdoria name former player Montella as their new coach Admn set to give push to organ donation Maradona undergoes gastric bypass; recovering well: Doctors B'day spl: Meenakshi Seshadri's biggest SECRETS! Jaipuri tempering to be flavour of royal wedding Kin protest murder with body on road Amitabh Bachchan; Farhan Akhtar's 'Wazir's 1st poster released Daly College shoots to glory Meet 'Love Aaj Kal' hottie Giselli Monteiro! Promised job; girl raped by brother-in-law Bigg Boss: Huccha Venkat to concentrate on Porki Huccha Venkat Truck crushes two in Ujjain Decomposed body found in MY hospital bathroom Aditya Roy Kapoor's drool-worthy photos IAAF suspension an option; says WADA commissioner Chhat Puja rush in Bihar bound trains What your tweets reveal about you 4 years old! Aaradhya Bachchan's CUTEST photos City teen develops app for personal security Ancelotti wants another shot at the Premier League Bindhu Madhavi's first modelling assignment was for Saravana Stores Jihadi John dead: Mohammed Emwazi has been killed; but others will replace him Proud mother Britney Spears shares son's school award pic Doping threatens Kenya's credibility at Rio Olympics: Rudisha's coach Merkel to attend German friendly after Paris attacks Four SSC aspirants caught with devices Bhatt flays Paris attacks; says ideologies can't be imposed Hamilton unhappy with Mercedes after 'boring' race City prof was in France on day of terror attacks Himachal government trained over 5;000 women FIR against NSUI men for remark against PM Brazil 'guarantees' Rio Olympics safety after Paris attacks BJP promises Sardar Mandir to woo Patidars in city Revisiting history: The real truth of Tipu Sultan It's four years of Kolaveri Perth Test could be Mitchell Johnson's last; feels Mark Taylor Vision document lands city Cong prez in trouble Paris Attack: What does Islam say about terrorism? Ex-mayor Fakir shares dais with BJP leaders Four-day Chhath festivity begins in city George Clooney dropped USD 1000 to homeless cafe Kevin Seraphin honours Paris with haircut tribute Ghats present a dismal picture of civic neglect Thousands witness 'Nag Nathiya' on Ganga bank Candidates meet voters during 'Sneh Milans' Cong behind Patel quota stir; says Anandiben Jobless youth steals valuables worth 41k Man held for rape; murder of granddaughter Victoria Beckham: My life is a juggling act City trader duped of diamond worth 8.25L Working with Ilaiyaraaja is a positive experience Everyone was eating; drinking; enjoying... 20 mins later terror struck! 'Yatra' for good governance to be flagged off PIC: Karisma Kapoor's proud moment Revise list of drought-hit mandals; demands CPM Lawyers to boycott courts Vitamin deficiency affecting tribal teenagers; says MSU study CM blamed for ticket denial 'Worried' David Luiz says returning to Paris Crocodile attack survivor dies at SSG Hospital Tamasha cast on 'Comedy Nights Bachao' SVIT student found dead in Sursagar Lake Illegal operations cost APSRTC dear Surplus water released from Chembarambakkam reservoir I was planning the proposal for months: Robin Uthappa Aamir Khan suffers a serious shoulder injury on the sets of Dangal Villagers rue increase in vehicular movement Vodafone: Working on war footing to tackle call drop issue Herbal powder can regulate type-II diabetes Some countries still use terror as state policy: PM Modi at G20 Summit Beer belly as deadly as flab in the rest body French warplanes bombard ISIS strongholds in Raqqa; two days after Paris attacks which killed 132 Esha Deol: Deepika Padukone is a good classical dancer Fire breaks out at solvent factory Jennifer Lawrence too scared to try theatre Hungary end 30-year wait with Euro 2016 breakthrough Working with Ilaiyaraaja is a positive experience Principles to overcome stress Karan Singh Grover: Don't think 'Hate Story 3' will affect my image India; B'desh sign deal to boost bilateral trade in NE Ellie Goulding: Guys can sing about one-night stands but girls can't Muslim group calls 48-hr strike in Manipur Osmania University students disrupt Emraan Hashmi's film shoot Ulfa presses Centre for Chetia on peace talks table IIT-G studying impact of auto emission on Himalayas Tripura civil bodies protest against radicals Gogoi replies to citizen's queries via Google Hangout Ex-cop's 'murder' by robbers triggers tension in Nagaon Twin cities take to green constructions Shaleen Bhanot suffers 'twin injuries'; continues to shoot Protests derail M'lore varsity exam calendar Focus on M-governance on 16th Foundation Day Tomato price goes through the roof Supreme Court rejects Delhi government's plea seeking death for Nitish Katara killers CM Distributes 8K Tabs To KGBV Students; Hands Over Appointment Letters To Teachers Winter chill casts swine flu misery Josh Cuthbert gets engaged Dry Falgu river poses challenge for Chhath devotees 25 FUTAJ Members To Travel To Delhi For Nat'l Rally Microwave cooking bad for you? Dino Morea wants to work with Deepika Padukone Drew Barrymore: I feel like I was born the day my kids were Kim Kardashian: My husband needs a lot of attention Smoking dads can pass cancer genes to kids Eco-tourism hub at Satkosia in Jan Luxury tents on beach in Bhitarkanika for tourists Odias in US raise 20L forSilk City library facelift 3 villagers killed in SOG-Maoist clash Two more farmers end life Deaths from cancer have increased by 60% since 1990 Marauding elephants force tribals to reside atop trees Home alone; senior citizens easy targets Why women lie while sexting? E-commerce sites are new launchpads for smart products Children learn while having fun at city events To Hull and back - Ben Arfa comes in from cold Future in mind; CM grooms young leaders Sudha Chandran: I want performance to be my style statement Squalor and stench in Mastercanteen Cancer drugs; stents at 60% discount soon Fair on spiritual books a hit in city Japan slips into technical recession with latest contraction Police try to earn trust of R'gada tribals 'Robbers' murder doctor couple in Sailashree Vihar Give 'amar ladoo' to farmers: Pramila Chef Vikas' success decoded Govt declares NSCN (K) as terrorist organization Ciara: Confidence is key to survival I was told to cook chapatis and not to be seen outside: Reham 'Bestie' Farah Khan throws birthday party for Sania Mirza 'Unique' patriotic chore for team player Maria Sharapova France strikes back as its jets blast ISIS stronghold in Syria Tips for intimate healthcare Emotional Justin Bieber bursts into tears onstage It's playtime for parents Candlelight march planned for late Sippy Sidhu 2nd Test: Rain washes away third day's play Using LED light to treat Alzheimer's disease Fashion designing institute hosts fresher's party in Kanpur Weekend homes find more investors in Bangalore Make your smartphone the fitness tracker Be curious; says Reese Witherspoon to students Inexpensive one-step test for hepatitis C infection Warangal byelection: KCR to campaign tomorrow Global risks bolster gold; oil after Paris attacks Celtics get Smart to silence Thunder in Oklahoma City Top factors pushing Sarjapur Road-Hosur Road belt Smart cities mission has created awareness among stakeholders; avers former chief secy A Ravindra 'Pinga' Vs 'Dola Re': 5 Reasons why 'Dola Re' was better? IT; retail hubs drive growth on Bannerghatta Road Christina Milian finds being a working mother 'hard.' Business areas around Bangalore see property demand Silk Road auction: 4 bidders take home $14 million worth of bitcoins Gayle inaugurates Kerala Cricket League in Dubai Qatar coach plays down growing World Cup hopes Akhilesh Yadav promised to rehabilitate orphans Intruder barges into high-security area at Attari near India-Pak international border Prinal Oberoi: 'I am jealous of Ankita' Cisco second-quarter forecast misses estimates Bengaluru continues to draw US-based investors Gadgets that make your wrist smarter Adele: Taking a break was weird What your choice of vacation says about your personality Heavy rain sinks Chennai Unhappy homes can turn managers abusive at work Haryana govt invites research projects on health Salman Khan's 'Sultan' location shifted to Haryana due to clash with 'Dangal' Saeed Jaffrey passes away Nawazuddin Siddiqui is all set to undergo training in golf Suspended cop in sulk over 'assault' by superior\""
      ]
     },
     "execution_count": 18,
     "metadata": {},
     "output_type": "execute_result"
    }
   ],
   "source": [
    "headlines[0]"
   ]
  },
  {
   "cell_type": "code",
   "execution_count": 19,
   "metadata": {},
   "outputs": [],
   "source": [
    "#Clean the data\n",
    "\n",
    "clean_headlines = []\n",
    "for i in range(0, len(headlines)):\n",
    "    clean_headlines.append(re.sub(\"b[(')]+\", '', headlines[i] ))\n",
    "    clean_headlines[i] = re.sub('b[(\")]+', '', clean_headlines[i] )\n",
    "    clean_headlines[i] = re.sub(\"\\'\", '', clean_headlines[i] )"
   ]
  },
  {
   "cell_type": "code",
   "execution_count": 20,
   "metadata": {},
   "outputs": [],
   "source": [
    "merge['Combined_News'] = clean_headlines"
   ]
  },
  {
   "cell_type": "code",
   "execution_count": 21,
   "metadata": {},
   "outputs": [
    {
     "data": {
      "text/plain": [
       "0       False\n",
       "1       False\n",
       "2       False\n",
       "3       False\n",
       "4       False\n",
       "        ...  \n",
       "1132    False\n",
       "1133    False\n",
       "1134    False\n",
       "1135    False\n",
       "1136    False\n",
       "Length: 1137, dtype: bool"
      ]
     },
     "execution_count": 21,
     "metadata": {},
     "output_type": "execute_result"
    }
   ],
   "source": [
    "#Checking if the headline text and the cleaned headlines are one and the same.\n",
    "\n",
    "merge['Combined_News'] == merge[\"headline_text\"]"
   ]
  },
  {
   "cell_type": "markdown",
   "metadata": {},
   "source": [
    "### The subjectivity shows how subjective or objective a statement is.\n",
    "\n",
    "### The polarity shows how positive/negative the statement is, a value equal to 1 means the statement is positive, a value equal to 0 means the statement is neutral and a value of -1 means the statement is negative."
   ]
  },
  {
   "cell_type": "code",
   "execution_count": 22,
   "metadata": {},
   "outputs": [],
   "source": [
    "# Create a function to get the subjectivity\n",
    "\n",
    "def getSubjectivity(text):\n",
    "    return TextBlob(text).sentiment.subjectivity"
   ]
  },
  {
   "cell_type": "code",
   "execution_count": 23,
   "metadata": {},
   "outputs": [],
   "source": [
    "# Create a function to get the polarity\n",
    "\n",
    "def getPolarity(text):\n",
    "    return  TextBlob(text).sentiment.polarity"
   ]
  },
  {
   "cell_type": "code",
   "execution_count": 24,
   "metadata": {},
   "outputs": [],
   "source": [
    "# Create two new columns 'Subjectivity' & 'Polarity'\n",
    "\n",
    "merge['Subjectivity'] =merge['Combined_News'].apply(getSubjectivity)\n",
    "merge['Polarity'] =merge['Combined_News'].apply(getPolarity)"
   ]
  },
  {
   "cell_type": "code",
   "execution_count": 25,
   "metadata": {},
   "outputs": [],
   "source": [
    "#Create a function to get the sentiment scores (using Sentiment Intensity Analyzer)\n",
    "\n",
    "def getSIA(text):\n",
    "    sia = SentimentIntensityAnalyzer()\n",
    "    sentiment = sia.polarity_scores(text)\n",
    "    return sentiment"
   ]
  },
  {
   "cell_type": "code",
   "execution_count": 26,
   "metadata": {},
   "outputs": [],
   "source": [
    "#Get the sentiment scores for each day\n",
    "\n",
    "compound = []\n",
    "neg = []\n",
    "neu = []\n",
    "pos = []\n",
    "SIA = 0"
   ]
  },
  {
   "cell_type": "code",
   "execution_count": 27,
   "metadata": {},
   "outputs": [],
   "source": [
    "for i in range(0, len(merge['Combined_News'])):\n",
    "    SIA = getSIA(merge['Combined_News'][i])\n",
    "    compound.append(SIA['compound'])\n",
    "    neg.append(SIA['neg'])\n",
    "    neu.append(SIA['neu'])\n",
    "    pos.append(SIA['pos'])"
   ]
  },
  {
   "cell_type": "code",
   "execution_count": 28,
   "metadata": {},
   "outputs": [],
   "source": [
    "#Store the sentiment scores in the data frame\n",
    "\n",
    "merge['Compound'] =compound\n",
    "merge['Negative'] =neg\n",
    "merge['Neutral'] =neu\n",
    "merge['Positive'] =pos"
   ]
  },
  {
   "cell_type": "code",
   "execution_count": 29,
   "metadata": {},
   "outputs": [
    {
     "data": {
      "text/html": [
       "<div>\n",
       "<style scoped>\n",
       "    .dataframe tbody tr th:only-of-type {\n",
       "        vertical-align: middle;\n",
       "    }\n",
       "\n",
       "    .dataframe tbody tr th {\n",
       "        vertical-align: top;\n",
       "    }\n",
       "\n",
       "    .dataframe thead th {\n",
       "        text-align: right;\n",
       "    }\n",
       "</style>\n",
       "<table border=\"1\" class=\"dataframe\">\n",
       "  <thead>\n",
       "    <tr style=\"text-align: right;\">\n",
       "      <th></th>\n",
       "      <th>Open</th>\n",
       "      <th>High</th>\n",
       "      <th>Low</th>\n",
       "      <th>Close</th>\n",
       "      <th>Subjectivity</th>\n",
       "      <th>Polarity</th>\n",
       "      <th>Compound</th>\n",
       "      <th>Negative</th>\n",
       "      <th>Neutral</th>\n",
       "      <th>Positive</th>\n",
       "      <th>Label</th>\n",
       "    </tr>\n",
       "  </thead>\n",
       "  <tbody>\n",
       "    <tr>\n",
       "      <th>0</th>\n",
       "      <td>25580.150391</td>\n",
       "      <td>25866.419922</td>\n",
       "      <td>25451.419922</td>\n",
       "      <td>25760.099609</td>\n",
       "      <td>0.394830</td>\n",
       "      <td>0.048730</td>\n",
       "      <td>-0.9999</td>\n",
       "      <td>0.186</td>\n",
       "      <td>0.695</td>\n",
       "      <td>0.119</td>\n",
       "      <td>1</td>\n",
       "    </tr>\n",
       "    <tr>\n",
       "      <th>1</th>\n",
       "      <td>25897.880859</td>\n",
       "      <td>25948.199219</td>\n",
       "      <td>25732.789063</td>\n",
       "      <td>25864.470703</td>\n",
       "      <td>0.428606</td>\n",
       "      <td>0.056071</td>\n",
       "      <td>-0.9998</td>\n",
       "      <td>0.151</td>\n",
       "      <td>0.741</td>\n",
       "      <td>0.108</td>\n",
       "      <td>1</td>\n",
       "    </tr>\n",
       "    <tr>\n",
       "      <th>2</th>\n",
       "      <td>25837.710938</td>\n",
       "      <td>25890.359375</td>\n",
       "      <td>25453.320313</td>\n",
       "      <td>25482.519531</td>\n",
       "      <td>0.372855</td>\n",
       "      <td>0.058173</td>\n",
       "      <td>-1.0000</td>\n",
       "      <td>0.182</td>\n",
       "      <td>0.714</td>\n",
       "      <td>0.105</td>\n",
       "      <td>0</td>\n",
       "    </tr>\n",
       "    <tr>\n",
       "      <th>3</th>\n",
       "      <td>25640.339844</td>\n",
       "      <td>25884.519531</td>\n",
       "      <td>25603.099609</td>\n",
       "      <td>25841.919922</td>\n",
       "      <td>0.413454</td>\n",
       "      <td>0.105078</td>\n",
       "      <td>-0.9994</td>\n",
       "      <td>0.144</td>\n",
       "      <td>0.732</td>\n",
       "      <td>0.124</td>\n",
       "      <td>1</td>\n",
       "    </tr>\n",
       "    <tr>\n",
       "      <th>4</th>\n",
       "      <td>25856.130859</td>\n",
       "      <td>26058.759766</td>\n",
       "      <td>25769.810547</td>\n",
       "      <td>25868.490234</td>\n",
       "      <td>0.427243</td>\n",
       "      <td>0.106915</td>\n",
       "      <td>-0.9951</td>\n",
       "      <td>0.114</td>\n",
       "      <td>0.780</td>\n",
       "      <td>0.106</td>\n",
       "      <td>1</td>\n",
       "    </tr>\n",
       "    <tr>\n",
       "      <th>...</th>\n",
       "      <td>...</td>\n",
       "      <td>...</td>\n",
       "      <td>...</td>\n",
       "      <td>...</td>\n",
       "      <td>...</td>\n",
       "      <td>...</td>\n",
       "      <td>...</td>\n",
       "      <td>...</td>\n",
       "      <td>...</td>\n",
       "      <td>...</td>\n",
       "      <td>...</td>\n",
       "    </tr>\n",
       "    <tr>\n",
       "      <th>1132</th>\n",
       "      <td>35679.738281</td>\n",
       "      <td>35706.550781</td>\n",
       "      <td>34794.929688</td>\n",
       "      <td>34868.980469</td>\n",
       "      <td>0.388562</td>\n",
       "      <td>0.088889</td>\n",
       "      <td>-0.9999</td>\n",
       "      <td>0.134</td>\n",
       "      <td>0.790</td>\n",
       "      <td>0.076</td>\n",
       "      <td>0</td>\n",
       "    </tr>\n",
       "    <tr>\n",
       "      <th>1133</th>\n",
       "      <td>34525.390625</td>\n",
       "      <td>35081.609375</td>\n",
       "      <td>34499.781250</td>\n",
       "      <td>34842.101563</td>\n",
       "      <td>0.403998</td>\n",
       "      <td>0.027038</td>\n",
       "      <td>-0.9999</td>\n",
       "      <td>0.140</td>\n",
       "      <td>0.800</td>\n",
       "      <td>0.060</td>\n",
       "      <td>0</td>\n",
       "    </tr>\n",
       "    <tr>\n",
       "      <th>1134</th>\n",
       "      <td>35144.781250</td>\n",
       "      <td>35254.878906</td>\n",
       "      <td>34910.339844</td>\n",
       "      <td>35171.269531</td>\n",
       "      <td>0.383265</td>\n",
       "      <td>0.072299</td>\n",
       "      <td>-0.9999</td>\n",
       "      <td>0.161</td>\n",
       "      <td>0.749</td>\n",
       "      <td>0.090</td>\n",
       "      <td>1</td>\n",
       "    </tr>\n",
       "    <tr>\n",
       "      <th>1135</th>\n",
       "      <td>34926.949219</td>\n",
       "      <td>35032.359375</td>\n",
       "      <td>34662.058594</td>\n",
       "      <td>34961.519531</td>\n",
       "      <td>0.395833</td>\n",
       "      <td>0.064768</td>\n",
       "      <td>-0.9999</td>\n",
       "      <td>0.141</td>\n",
       "      <td>0.774</td>\n",
       "      <td>0.085</td>\n",
       "      <td>0</td>\n",
       "    </tr>\n",
       "    <tr>\n",
       "      <th>1136</th>\n",
       "      <td>35168.300781</td>\n",
       "      <td>35233.910156</td>\n",
       "      <td>34812.800781</td>\n",
       "      <td>34915.800781</td>\n",
       "      <td>0.384191</td>\n",
       "      <td>0.071554</td>\n",
       "      <td>-0.9999</td>\n",
       "      <td>0.136</td>\n",
       "      <td>0.796</td>\n",
       "      <td>0.068</td>\n",
       "      <td>0</td>\n",
       "    </tr>\n",
       "  </tbody>\n",
       "</table>\n",
       "<p>1137 rows × 11 columns</p>\n",
       "</div>"
      ],
      "text/plain": [
       "              Open          High           Low         Close  Subjectivity  \\\n",
       "0     25580.150391  25866.419922  25451.419922  25760.099609      0.394830   \n",
       "1     25897.880859  25948.199219  25732.789063  25864.470703      0.428606   \n",
       "2     25837.710938  25890.359375  25453.320313  25482.519531      0.372855   \n",
       "3     25640.339844  25884.519531  25603.099609  25841.919922      0.413454   \n",
       "4     25856.130859  26058.759766  25769.810547  25868.490234      0.427243   \n",
       "...            ...           ...           ...           ...           ...   \n",
       "1132  35679.738281  35706.550781  34794.929688  34868.980469      0.388562   \n",
       "1133  34525.390625  35081.609375  34499.781250  34842.101563      0.403998   \n",
       "1134  35144.781250  35254.878906  34910.339844  35171.269531      0.383265   \n",
       "1135  34926.949219  35032.359375  34662.058594  34961.519531      0.395833   \n",
       "1136  35168.300781  35233.910156  34812.800781  34915.800781      0.384191   \n",
       "\n",
       "      Polarity  Compound  Negative  Neutral  Positive  Label  \n",
       "0     0.048730   -0.9999     0.186    0.695     0.119      1  \n",
       "1     0.056071   -0.9998     0.151    0.741     0.108      1  \n",
       "2     0.058173   -1.0000     0.182    0.714     0.105      0  \n",
       "3     0.105078   -0.9994     0.144    0.732     0.124      1  \n",
       "4     0.106915   -0.9951     0.114    0.780     0.106      1  \n",
       "...        ...       ...       ...      ...       ...    ...  \n",
       "1132  0.088889   -0.9999     0.134    0.790     0.076      0  \n",
       "1133  0.027038   -0.9999     0.140    0.800     0.060      0  \n",
       "1134  0.072299   -0.9999     0.161    0.749     0.090      1  \n",
       "1135  0.064768   -0.9999     0.141    0.774     0.085      0  \n",
       "1136  0.071554   -0.9999     0.136    0.796     0.068      0  \n",
       "\n",
       "[1137 rows x 11 columns]"
      ]
     },
     "execution_count": 29,
     "metadata": {},
     "output_type": "execute_result"
    }
   ],
   "source": [
    "keep_columns = [ 'Open', 'High', 'Low', 'Close', 'Subjectivity', 'Polarity', 'Compound', 'Negative', 'Neutral' ,'Positive', 'Label']\n",
    "df = pd.DataFrame(merge[keep_columns])\n",
    "df"
   ]
  },
  {
   "cell_type": "code",
   "execution_count": 30,
   "metadata": {},
   "outputs": [],
   "source": [
    "#Create the feature data set\n",
    "X = df\n",
    "X = np.array(X.drop(['Label'],1))\n",
    "\n",
    "#Create the target data set\n",
    "y = np.array(df['Label'])"
   ]
  },
  {
   "cell_type": "code",
   "execution_count": 31,
   "metadata": {},
   "outputs": [],
   "source": [
    "#Split the data into 80% training and 20% testing data sets\n",
    "\n",
    "import sklearn\n",
    "from sklearn.model_selection import train_test_split\n",
    "x_train, x_test, y_train, y_test = train_test_split(X, y, test_size=0.2, random_state = 0)"
   ]
  },
  {
   "cell_type": "code",
   "execution_count": 33,
   "metadata": {},
   "outputs": [
    {
     "data": {
      "text/plain": [
       "((909, 10), (909,))"
      ]
     },
     "execution_count": 33,
     "metadata": {},
     "output_type": "execute_result"
    }
   ],
   "source": [
    "x_train.shape , y_train.shape"
   ]
  },
  {
   "cell_type": "code",
   "execution_count": 32,
   "metadata": {},
   "outputs": [
    {
     "data": {
      "text/plain": [
       "(array([[348,   0],\n",
       "        [348,   1],\n",
       "        [348,   2],\n",
       "        [348,   3],\n",
       "        [538,   0],\n",
       "        [538,   1],\n",
       "        [538,   2],\n",
       "        [538,   3],\n",
       "        [587,   0],\n",
       "        [587,   1],\n",
       "        [587,   2],\n",
       "        [587,   3],\n",
       "        [801,   0],\n",
       "        [801,   1],\n",
       "        [801,   2],\n",
       "        [801,   3]], dtype=int32),\n",
       " array([], shape=(0, 1), dtype=int32))"
      ]
     },
     "execution_count": 32,
     "metadata": {},
     "output_type": "execute_result"
    }
   ],
   "source": [
    "np.argwhere(np.isnan(x_train)), np.argwhere(np.isnan(y_train))"
   ]
  },
  {
   "cell_type": "code",
   "execution_count": 34,
   "metadata": {},
   "outputs": [],
   "source": [
    "x_train=x_train[~np.isnan(x_train).any(axis=1)]\n",
    "y_train = np.delete(y_train, [348, 538, 587, 801])"
   ]
  },
  {
   "cell_type": "code",
   "execution_count": 35,
   "metadata": {},
   "outputs": [
    {
     "data": {
      "text/plain": [
       "((905, 10), (905,), False, False)"
      ]
     },
     "execution_count": 35,
     "metadata": {},
     "output_type": "execute_result"
    }
   ],
   "source": [
    "x_train.shape, y_train.shape, np.any(np.isnan(x_train)), np.any(np.isnan(y_train))"
   ]
  },
  {
   "cell_type": "code",
   "execution_count": 36,
   "metadata": {},
   "outputs": [],
   "source": [
    "from sklearn.discriminant_analysis import LinearDiscriminantAnalysis\n",
    "\n",
    "model = LinearDiscriminantAnalysis().fit(x_train, y_train)"
   ]
  },
  {
   "cell_type": "code",
   "execution_count": 37,
   "metadata": {},
   "outputs": [
    {
     "data": {
      "text/plain": [
       "array([0, 1, 0, 0, 0, 1, 1, 1, 0, 0, 1, 0, 0, 1, 1, 1, 1, 1, 1, 0, 1, 1,\n",
       "       0, 1, 1, 1, 0, 0, 0, 0, 1, 0, 1, 1, 0, 1, 1, 1, 0, 1, 0, 0, 1, 0,\n",
       "       1, 1, 1, 1, 1, 0, 0, 0, 1, 0, 1, 0, 1, 1, 1, 1, 1, 1, 1, 1, 0, 0,\n",
       "       1, 1, 0, 1, 1, 0, 0, 1, 0, 0, 1, 0, 1, 1, 0, 1, 1, 1, 0, 0, 0, 0,\n",
       "       0, 1, 1, 0, 0, 0, 1, 0, 1, 1, 1, 0, 1, 0, 0, 0, 1, 1, 1, 1, 0, 1,\n",
       "       1, 1, 0, 1, 1, 1, 1, 1, 1, 1, 1, 1, 1, 0, 1, 1, 1, 0, 1, 1, 0, 1,\n",
       "       0, 1, 1, 1, 1, 0, 1, 1, 0, 0, 1, 0, 1, 0, 0, 1, 0, 1, 0, 1, 1, 1,\n",
       "       0, 1, 1, 0, 0, 1, 1, 0, 0, 1, 1, 0, 0, 1, 1, 0, 1, 1, 1, 1, 1, 1,\n",
       "       0, 0, 1, 1, 1, 1, 1, 1, 1, 1, 0, 1, 1, 0, 1, 1, 1, 0, 1, 0, 1, 0,\n",
       "       0, 1, 0, 0, 1, 1, 0, 1, 0, 0, 1, 1, 0, 0, 1, 1, 0, 1, 1, 1, 0, 1,\n",
       "       1, 1, 1, 0, 0, 1, 1, 1], dtype=int64)"
      ]
     },
     "execution_count": 37,
     "metadata": {},
     "output_type": "execute_result"
    }
   ],
   "source": [
    "#Get the models predictions/classification\n",
    "\n",
    "predictions = model.predict(x_test)\n",
    "predictions"
   ]
  },
  {
   "cell_type": "code",
   "execution_count": 38,
   "metadata": {},
   "outputs": [
    {
     "name": "stdout",
     "output_type": "stream",
     "text": [
      "              precision    recall  f1-score   support\n",
      "\n",
      "           0       0.95      0.68      0.80       123\n",
      "           1       0.72      0.96      0.82       105\n",
      "\n",
      "    accuracy                           0.81       228\n",
      "   macro avg       0.84      0.82      0.81       228\n",
      "weighted avg       0.85      0.81      0.81       228\n",
      "\n"
     ]
    }
   ],
   "source": [
    "#Show the models metrics\n",
    "\n",
    "\n",
    "print( sklearn.metrics.classification_report(y_test, predictions) )"
   ]
  },
  {
   "cell_type": "code",
   "execution_count": 40,
   "metadata": {},
   "outputs": [
    {
     "data": {
      "text/plain": [
       "<sklearn.metrics._plot.confusion_matrix.ConfusionMatrixDisplay at 0x11a5510>"
      ]
     },
     "execution_count": 40,
     "metadata": {},
     "output_type": "execute_result"
    },
    {
     "data": {
      "image/png": "[encoded data removed]",
      "text/plain": [
       "<Figure size 432x288 with 2 Axes>"
      ]
     },
     "metadata": {
      "needs_background": "light"
     },
     "output_type": "display_data"
    }
   ],
   "source": [
    "from sklearn.metrics import plot_confusion_matrix\n",
    "\n",
    "plot_confusion_matrix(model, x_test, y_test)  "
   ]
  }
 ],
 "metadata": {
  "kernelspec": {
   "display_name": "Python 3",
   "language": "python",
   "name": "python3"
  },
  "language_info": {
   "codemirror_mode": {
    "name": "ipython",
    "version": 3
   },
   "file_extension": ".py",
   "mimetype": "text/x-python",
   "name": "python",
   "nbconvert_exporter": "python",
   "pygments_lexer": "ipython3",
   "version": "3.7.9"
  }
 },
 "nbformat": 4,
 "nbformat_minor": 4
}
